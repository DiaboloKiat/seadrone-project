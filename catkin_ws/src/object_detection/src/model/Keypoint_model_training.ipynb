{
 "cells": [
  {
   "cell_type": "code",
   "execution_count": 4,
   "metadata": {
    "id": "igMyGnjE9hEp"
   },
   "outputs": [],
   "source": [
    "import csv\n",
    "\n",
    "import numpy as np\n",
    "import pandas as pd\n",
    "import tensorflow as tf\n",
    "from sklearn.model_selection import train_test_split\n",
    "\n",
    "RANDOM_SEED = 42"
   ]
  },
  {
   "cell_type": "markdown",
   "metadata": {
    "id": "t2HDvhIu9hEr"
   },
   "source": [
    "# Specify each path"
   ]
  },
  {
   "cell_type": "code",
   "execution_count": 5,
   "metadata": {
    "id": "9NvZP2Zn9hEy"
   },
   "outputs": [],
   "source": [
    "# Specify data paths\n",
    "dataset = '/home/diabolokiat/seadrone-project/catkin_ws/src/object_detection/src/model/keypoint_classifier/keypoint_new.csv'\n",
    "model_save_path = '/home/diabolokiat/seadrone-project/catkin_ws/src/object_detection/src/model/keypoint_classifier/keypoint_classifier.hdf5'\n",
    "tflite_save_path = '/home/diabolokiat/seadrone-project/catkin_ws/src/object_detection/src/model/keypoint_classifier/keypoint_classifier.tflite'"
   ]
  },
  {
   "cell_type": "markdown",
   "metadata": {
    "id": "s5oMH7x19hEz"
   },
   "source": [
    "# Set number of classes"
   ]
  },
  {
   "cell_type": "code",
   "execution_count": 6,
   "metadata": {
    "id": "du4kodXL9hEz"
   },
   "outputs": [],
   "source": [
    "# Change training classes if necessary\n",
    "NUM_CLASSES = 10"
   ]
  },
  {
   "cell_type": "markdown",
   "metadata": {
    "id": "XjnL0uso9hEz"
   },
   "source": [
    "# Dataset reading"
   ]
  },
  {
   "cell_type": "code",
   "execution_count": 7,
   "metadata": {
    "id": "QT5ZqtEz9hE0"
   },
   "outputs": [],
   "source": [
    "X_dataset = np.loadtxt(dataset, delimiter=',', dtype='float32', usecols=list(range(1, (21 * 2) + 1)))"
   ]
  },
  {
   "cell_type": "code",
   "execution_count": 8,
   "metadata": {
    "id": "QmoKFsp49hE0"
   },
   "outputs": [],
   "source": [
    "y_dataset = np.loadtxt(dataset, delimiter=',', dtype='int32', usecols=(0))"
   ]
  },
  {
   "cell_type": "code",
   "execution_count": 9,
   "metadata": {
    "id": "xQU7JTZ_9hE0"
   },
   "outputs": [],
   "source": [
    "X_train, X_test, y_train, y_test = train_test_split(X_dataset, y_dataset, train_size=0.75, random_state=RANDOM_SEED)"
   ]
  },
  {
   "cell_type": "code",
   "execution_count": 11,
   "metadata": {
    "colab": {
     "base_uri": "https://localhost:8080/",
     "height": 279
    },
    "id": "xElG5FoPDQO9",
    "outputId": "2ef372ed-62e3-49c1-ad36-a5b5dc76701a"
   },
   "outputs": [
    {
     "name": "stdout",
     "output_type": "stream",
     "text": [
      "(array([0, 1, 2, 3, 4, 5, 6, 7, 8, 9], dtype=int32), array([105,  93,  90, 272, 237, 357, 230, 556, 121, 295]))\n"
     ]
    },
    {
     "data": {
      "image/png": "[encoded data removed]",
      "text/plain": [
       "<Figure size 432x288 with 1 Axes>"
      ]
     },
     "metadata": {
      "needs_background": "light"
     },
     "output_type": "display_data"
    }
   ],
   "source": [
    "# Classes count\n",
    "counts = np.unique(y_dataset, return_counts=True)\n",
    "df = pd.DataFrame(counts)\n",
    "df.T.plot(kind=\"bar\", stacked=True)\n",
    "print(counts)"
   ]
  },
  {
   "cell_type": "markdown",
   "metadata": {
    "id": "mxK_lETT9hE0"
   },
   "source": [
    "# Model building"
   ]
  },
  {
   "cell_type": "code",
   "execution_count": 12,
   "metadata": {
    "id": "vHBmUf1t9hE1"
   },
   "outputs": [],
   "source": [
    "model = tf.keras.models.Sequential([\n",
    "    tf.keras.layers.Input((21 * 2, )),\n",
    "    tf.keras.layers.Dropout(0.0),\n",
    "    tf.keras.layers.Dense(32, activation='relu'),\n",
    "    tf.keras.layers.Dropout(0.0),\n",
    "    tf.keras.layers.Dense(32, activation='relu'),\n",
    "    tf.keras.layers.Dropout(0.0),\n",
    "    tf.keras.layers.Dense(16, activation='relu'),\n",
    "    tf.keras.layers.Dense(NUM_CLASSES, activation='softmax')\n",
    "])"
   ]
  },
  {
   "cell_type": "code",
   "execution_count": 13,
   "metadata": {
    "colab": {
     "base_uri": "https://localhost:8080/"
    },
    "id": "ypqky9tc9hE1",
    "outputId": "c42f3550-ceee-45b8-d40d-d99fd84a2616"
   },
   "outputs": [
    {
     "name": "stdout",
     "output_type": "stream",
     "text": [
      "Model: \"sequential\"\n",
      "_________________________________________________________________\n",
      "Layer (type)                 Output Shape              Param #   \n",
      "=================================================================\n",
      "dropout (Dropout)            (None, 42)                0         \n",
      "_________________________________________________________________\n",
      "dense (Dense)                (None, 32)                1376      \n",
      "_________________________________________________________________\n",
      "dropout_1 (Dropout)          (None, 32)                0         \n",
      "_________________________________________________________________\n",
      "dense_1 (Dense)              (None, 32)                1056      \n",
      "_________________________________________________________________\n",
      "dropout_2 (Dropout)          (None, 32)                0         \n",
      "_________________________________________________________________\n",
      "dense_2 (Dense)              (None, 16)                528       \n",
      "_________________________________________________________________\n",
      "dense_3 (Dense)              (None, 10)                170       \n",
      "=================================================================\n",
      "Total params: 3,130\n",
      "Trainable params: 3,130\n",
      "Non-trainable params: 0\n",
      "_________________________________________________________________\n"
     ]
    }
   ],
   "source": [
    "model.summary()  # tf.keras.utils.plot_model(model, show_shapes=True)"
   ]
  },
  {
   "cell_type": "code",
   "execution_count": 14,
   "metadata": {
    "id": "MbMjOflQ9hE1"
   },
   "outputs": [],
   "source": [
    "# Model checkpoint callback\n",
    "cp_callback = tf.keras.callbacks.ModelCheckpoint(\n",
    "    model_save_path, verbose=1, save_weights_only=False, save_best_only=True)\n",
    "# Callback for early stopping\n",
    "es_callback = tf.keras.callbacks.EarlyStopping(patience=50, verbose=1)"
   ]
  },
  {
   "cell_type": "code",
   "execution_count": 15,
   "metadata": {
    "id": "c3Dac0M_9hE2"
   },
   "outputs": [],
   "source": [
    "# Model compilation\n",
    "model.compile(\n",
    "    optimizer='adam',\n",
    "    loss='sparse_categorical_crossentropy',\n",
    "    metrics=['accuracy']\n",
    ")"
   ]
  },
  {
   "cell_type": "markdown",
   "metadata": {
    "id": "7XI0j1Iu9hE2"
   },
   "source": [
    "# Model training"
   ]
  },
  {
   "cell_type": "code",
   "execution_count": 16,
   "metadata": {
    "id": "WirBl-JE9hE3",
    "scrolled": true
   },
   "outputs": [
    {
     "name": "stdout",
     "output_type": "stream",
     "text": [
      "Epoch 1/1000\n",
      " 1/28 [>.............................] - ETA: 0s - loss: 2.3074 - accuracy: 0.1094\n",
      "Epoch 00001: val_loss improved from inf to 2.16392, saving model to /home/diabolokiat/seadrone-project/catkin_ws/src/object_detection/src/model/keypoint_classifier/keypoint_classifier.hdf5\n",
      "28/28 [==============================] - 0s 5ms/step - loss: 2.2366 - accuracy: 0.1749 - val_loss: 2.1639 - val_accuracy: 0.2564\n",
      "Epoch 2/1000\n",
      " 1/28 [>.............................] - ETA: 0s - loss: 2.2151 - accuracy: 0.1875\n",
      "Epoch 00002: val_loss improved from 2.16392 to 1.97288, saving model to /home/diabolokiat/seadrone-project/catkin_ws/src/object_detection/src/model/keypoint_classifier/keypoint_classifier.hdf5\n",
      "28/28 [==============================] - 0s 2ms/step - loss: 2.0688 - accuracy: 0.2858 - val_loss: 1.9729 - val_accuracy: 0.2801\n",
      "Epoch 3/1000\n",
      " 1/28 [>.............................] - ETA: 0s - loss: 1.9910 - accuracy: 0.2031\n",
      "Epoch 00003: val_loss improved from 1.97288 to 1.77838, saving model to /home/diabolokiat/seadrone-project/catkin_ws/src/object_detection/src/model/keypoint_classifier/keypoint_classifier.hdf5\n",
      "28/28 [==============================] - 0s 2ms/step - loss: 1.8695 - accuracy: 0.3384 - val_loss: 1.7784 - val_accuracy: 0.4397\n",
      "Epoch 4/1000\n",
      " 1/28 [>.............................] - ETA: 0s - loss: 1.6697 - accuracy: 0.5000\n",
      "Epoch 00004: val_loss improved from 1.77838 to 1.53361, saving model to /home/diabolokiat/seadrone-project/catkin_ws/src/object_detection/src/model/keypoint_classifier/keypoint_classifier.hdf5\n",
      "28/28 [==============================] - 0s 2ms/step - loss: 1.6492 - accuracy: 0.5235 - val_loss: 1.5336 - val_accuracy: 0.5569\n",
      "Epoch 5/1000\n",
      " 1/28 [>.............................] - ETA: 0s - loss: 1.4622 - accuracy: 0.6094\n",
      "Epoch 00005: val_loss improved from 1.53361 to 1.25629, saving model to /home/diabolokiat/seadrone-project/catkin_ws/src/object_detection/src/model/keypoint_classifier/keypoint_classifier.hdf5\n",
      "28/28 [==============================] - 0s 2ms/step - loss: 1.3686 - accuracy: 0.6050 - val_loss: 1.2563 - val_accuracy: 0.6689\n",
      "Epoch 6/1000\n",
      " 1/28 [>.............................] - ETA: 0s - loss: 1.2618 - accuracy: 0.6562\n",
      "Epoch 00006: val_loss improved from 1.25629 to 0.99960, saving model to /home/diabolokiat/seadrone-project/catkin_ws/src/object_detection/src/model/keypoint_classifier/keypoint_classifier.hdf5\n",
      "28/28 [==============================] - 0s 2ms/step - loss: 1.0921 - accuracy: 0.6910 - val_loss: 0.9996 - val_accuracy: 0.7063\n",
      "Epoch 7/1000\n",
      " 1/28 [>.............................] - ETA: 0s - loss: 0.9949 - accuracy: 0.7812\n",
      "Epoch 00007: val_loss improved from 0.99960 to 0.80638, saving model to /home/diabolokiat/seadrone-project/catkin_ws/src/object_detection/src/model/keypoint_classifier/keypoint_classifier.hdf5\n",
      "28/28 [==============================] - 0s 2ms/step - loss: 0.8703 - accuracy: 0.7589 - val_loss: 0.8064 - val_accuracy: 0.7725\n",
      "Epoch 8/1000\n",
      " 1/28 [>.............................] - ETA: 0s - loss: 0.6459 - accuracy: 0.8281\n",
      "Epoch 00008: val_loss improved from 0.80638 to 0.63837, saving model to /home/diabolokiat/seadrone-project/catkin_ws/src/object_detection/src/model/keypoint_classifier/keypoint_classifier.hdf5\n",
      "28/28 [==============================] - 0s 2ms/step - loss: 0.6895 - accuracy: 0.8172 - val_loss: 0.6384 - val_accuracy: 0.8031\n",
      "Epoch 9/1000\n",
      " 1/28 [>.............................] - ETA: 0s - loss: 0.6770 - accuracy: 0.8125\n",
      "Epoch 00009: val_loss improved from 0.63837 to 0.50342, saving model to /home/diabolokiat/seadrone-project/catkin_ws/src/object_detection/src/model/keypoint_classifier/keypoint_classifier.hdf5\n",
      "28/28 [==============================] - 0s 2ms/step - loss: 0.5349 - accuracy: 0.8534 - val_loss: 0.5034 - val_accuracy: 0.8472\n",
      "Epoch 10/1000\n",
      " 1/28 [>.............................] - ETA: 0s - loss: 0.4724 - accuracy: 0.8906\n",
      "Epoch 00010: val_loss improved from 0.50342 to 0.39665, saving model to /home/diabolokiat/seadrone-project/catkin_ws/src/object_detection/src/model/keypoint_classifier/keypoint_classifier.hdf5\n",
      "28/28 [==============================] - 0s 2ms/step - loss: 0.4169 - accuracy: 0.9021 - val_loss: 0.3967 - val_accuracy: 0.9134\n",
      "Epoch 11/1000\n",
      " 1/28 [>.............................] - ETA: 0s - loss: 0.3408 - accuracy: 0.8906\n",
      "Epoch 00011: val_loss improved from 0.39665 to 0.30406, saving model to /home/diabolokiat/seadrone-project/catkin_ws/src/object_detection/src/model/keypoint_classifier/keypoint_classifier.hdf5\n",
      "28/28 [==============================] - 0s 1ms/step - loss: 0.3263 - accuracy: 0.9553 - val_loss: 0.3041 - val_accuracy: 0.9593\n",
      "Epoch 12/1000\n",
      " 1/28 [>.............................] - ETA: 0s - loss: 0.3059 - accuracy: 0.9844\n",
      "Epoch 00012: val_loss improved from 0.30406 to 0.24915, saving model to /home/diabolokiat/seadrone-project/catkin_ws/src/object_detection/src/model/keypoint_classifier/keypoint_classifier.hdf5\n",
      "28/28 [==============================] - 0s 2ms/step - loss: 0.2575 - accuracy: 0.9723 - val_loss: 0.2492 - val_accuracy: 0.9457\n",
      "Epoch 13/1000\n",
      " 1/28 [>.............................] - ETA: 0s - loss: 0.2104 - accuracy: 0.9375\n",
      "Epoch 00013: val_loss improved from 0.24915 to 0.19223, saving model to /home/diabolokiat/seadrone-project/catkin_ws/src/object_detection/src/model/keypoint_classifier/keypoint_classifier.hdf5\n",
      "28/28 [==============================] - 0s 2ms/step - loss: 0.2012 - accuracy: 0.9757 - val_loss: 0.1922 - val_accuracy: 0.9830\n",
      "Epoch 14/1000\n",
      " 1/28 [>.............................] - ETA: 0s - loss: 0.1910 - accuracy: 0.9688\n",
      "Epoch 00014: val_loss improved from 0.19223 to 0.15440, saving model to /home/diabolokiat/seadrone-project/catkin_ws/src/object_detection/src/model/keypoint_classifier/keypoint_classifier.hdf5\n",
      "28/28 [==============================] - 0s 2ms/step - loss: 0.1643 - accuracy: 0.9734 - val_loss: 0.1544 - val_accuracy: 0.9881\n",
      "Epoch 15/1000\n",
      " 1/28 [>.............................] - ETA: 0s - loss: 0.0902 - accuracy: 1.0000\n",
      "Epoch 00015: val_loss improved from 0.15440 to 0.12693, saving model to /home/diabolokiat/seadrone-project/catkin_ws/src/object_detection/src/model/keypoint_classifier/keypoint_classifier.hdf5\n",
      "28/28 [==============================] - 0s 2ms/step - loss: 0.1322 - accuracy: 0.9887 - val_loss: 0.1269 - val_accuracy: 0.9830\n",
      "Epoch 16/1000\n",
      " 1/28 [>.............................] - ETA: 0s - loss: 0.1401 - accuracy: 0.9844\n",
      "Epoch 00016: val_loss improved from 0.12693 to 0.10362, saving model to /home/diabolokiat/seadrone-project/catkin_ws/src/object_detection/src/model/keypoint_classifier/keypoint_classifier.hdf5\n",
      "28/28 [==============================] - 0s 2ms/step - loss: 0.1065 - accuracy: 0.9892 - val_loss: 0.1036 - val_accuracy: 0.9915\n",
      "Epoch 17/1000\n",
      " 1/28 [>.............................] - ETA: 0s - loss: 0.0957 - accuracy: 1.0000\n",
      "Epoch 00017: val_loss improved from 0.10362 to 0.08632, saving model to /home/diabolokiat/seadrone-project/catkin_ws/src/object_detection/src/model/keypoint_classifier/keypoint_classifier.hdf5\n",
      "28/28 [==============================] - 0s 2ms/step - loss: 0.0886 - accuracy: 0.9921 - val_loss: 0.0863 - val_accuracy: 0.9966\n",
      "Epoch 18/1000\n",
      " 1/28 [>.............................] - ETA: 0s - loss: 0.0683 - accuracy: 1.0000\n",
      "Epoch 00018: val_loss improved from 0.08632 to 0.07420, saving model to /home/diabolokiat/seadrone-project/catkin_ws/src/object_detection/src/model/keypoint_classifier/keypoint_classifier.hdf5\n",
      "28/28 [==============================] - 0s 2ms/step - loss: 0.0735 - accuracy: 0.9926 - val_loss: 0.0742 - val_accuracy: 0.9932\n",
      "Epoch 19/1000\n",
      " 1/28 [>.............................] - ETA: 0s - loss: 0.0510 - accuracy: 1.0000\n",
      "Epoch 00019: val_loss improved from 0.07420 to 0.06413, saving model to /home/diabolokiat/seadrone-project/catkin_ws/src/object_detection/src/model/keypoint_classifier/keypoint_classifier.hdf5\n",
      "28/28 [==============================] - 0s 2ms/step - loss: 0.0628 - accuracy: 0.9955 - val_loss: 0.0641 - val_accuracy: 0.9949\n",
      "Epoch 20/1000\n",
      " 1/28 [>.............................] - ETA: 0s - loss: 0.0381 - accuracy: 1.0000\n",
      "Epoch 00020: val_loss improved from 0.06413 to 0.05534, saving model to /home/diabolokiat/seadrone-project/catkin_ws/src/object_detection/src/model/keypoint_classifier/keypoint_classifier.hdf5\n",
      "28/28 [==============================] - 0s 2ms/step - loss: 0.0531 - accuracy: 0.9977 - val_loss: 0.0553 - val_accuracy: 0.9949\n"
     ]
    },
    {
     "name": "stdout",
     "output_type": "stream",
     "text": [
      "Epoch 21/1000\n",
      " 1/28 [>.............................] - ETA: 0s - loss: 0.0595 - accuracy: 1.0000\n",
      "Epoch 00021: val_loss improved from 0.05534 to 0.04794, saving model to /home/diabolokiat/seadrone-project/catkin_ws/src/object_detection/src/model/keypoint_classifier/keypoint_classifier.hdf5\n",
      "28/28 [==============================] - 0s 2ms/step - loss: 0.0481 - accuracy: 0.9972 - val_loss: 0.0479 - val_accuracy: 0.9983\n",
      "Epoch 22/1000\n",
      " 1/28 [>.............................] - ETA: 0s - loss: 0.0335 - accuracy: 1.0000\n",
      "Epoch 00022: val_loss improved from 0.04794 to 0.04332, saving model to /home/diabolokiat/seadrone-project/catkin_ws/src/object_detection/src/model/keypoint_classifier/keypoint_classifier.hdf5\n",
      "28/28 [==============================] - 0s 2ms/step - loss: 0.0400 - accuracy: 0.9983 - val_loss: 0.0433 - val_accuracy: 0.9966\n",
      "Epoch 23/1000\n",
      " 1/28 [>.............................] - ETA: 0s - loss: 0.0597 - accuracy: 0.9844\n",
      "Epoch 00023: val_loss improved from 0.04332 to 0.03612, saving model to /home/diabolokiat/seadrone-project/catkin_ws/src/object_detection/src/model/keypoint_classifier/keypoint_classifier.hdf5\n",
      "28/28 [==============================] - 0s 2ms/step - loss: 0.0338 - accuracy: 0.9994 - val_loss: 0.0361 - val_accuracy: 1.0000\n",
      "Epoch 24/1000\n",
      " 1/28 [>.............................] - ETA: 0s - loss: 0.0239 - accuracy: 1.0000\n",
      "Epoch 00024: val_loss improved from 0.03612 to 0.03305, saving model to /home/diabolokiat/seadrone-project/catkin_ws/src/object_detection/src/model/keypoint_classifier/keypoint_classifier.hdf5\n",
      "28/28 [==============================] - 0s 2ms/step - loss: 0.0298 - accuracy: 0.9994 - val_loss: 0.0330 - val_accuracy: 0.9983\n",
      "Epoch 25/1000\n",
      " 1/28 [>.............................] - ETA: 0s - loss: 0.0311 - accuracy: 1.0000\n",
      "Epoch 00025: val_loss improved from 0.03305 to 0.02918, saving model to /home/diabolokiat/seadrone-project/catkin_ws/src/object_detection/src/model/keypoint_classifier/keypoint_classifier.hdf5\n",
      "28/28 [==============================] - 0s 2ms/step - loss: 0.0273 - accuracy: 0.9989 - val_loss: 0.0292 - val_accuracy: 1.0000\n",
      "Epoch 26/1000\n",
      " 1/28 [>.............................] - ETA: 0s - loss: 0.0172 - accuracy: 1.0000\n",
      "Epoch 00026: val_loss improved from 0.02918 to 0.02657, saving model to /home/diabolokiat/seadrone-project/catkin_ws/src/object_detection/src/model/keypoint_classifier/keypoint_classifier.hdf5\n",
      "28/28 [==============================] - 0s 2ms/step - loss: 0.0239 - accuracy: 0.9994 - val_loss: 0.0266 - val_accuracy: 0.9983\n",
      "Epoch 27/1000\n",
      " 1/28 [>.............................] - ETA: 0s - loss: 0.0152 - accuracy: 1.0000\n",
      "Epoch 00027: val_loss did not improve from 0.02657\n",
      "28/28 [==============================] - 0s 1ms/step - loss: 0.0221 - accuracy: 0.9994 - val_loss: 0.0269 - val_accuracy: 0.9983\n",
      "Epoch 28/1000\n",
      " 1/28 [>.............................] - ETA: 0s - loss: 0.0116 - accuracy: 1.0000\n",
      "Epoch 00028: val_loss improved from 0.02657 to 0.02413, saving model to /home/diabolokiat/seadrone-project/catkin_ws/src/object_detection/src/model/keypoint_classifier/keypoint_classifier.hdf5\n",
      "28/28 [==============================] - 0s 2ms/step - loss: 0.0203 - accuracy: 0.9989 - val_loss: 0.0241 - val_accuracy: 0.9983\n",
      "Epoch 29/1000\n",
      " 1/28 [>.............................] - ETA: 0s - loss: 0.0149 - accuracy: 1.0000\n",
      "Epoch 00029: val_loss improved from 0.02413 to 0.01969, saving model to /home/diabolokiat/seadrone-project/catkin_ws/src/object_detection/src/model/keypoint_classifier/keypoint_classifier.hdf5\n",
      "28/28 [==============================] - 0s 2ms/step - loss: 0.0178 - accuracy: 0.9994 - val_loss: 0.0197 - val_accuracy: 0.9983\n",
      "Epoch 30/1000\n",
      " 1/28 [>.............................] - ETA: 0s - loss: 0.0223 - accuracy: 1.0000\n",
      "Epoch 00030: val_loss improved from 0.01969 to 0.01948, saving model to /home/diabolokiat/seadrone-project/catkin_ws/src/object_detection/src/model/keypoint_classifier/keypoint_classifier.hdf5\n",
      "28/28 [==============================] - 0s 2ms/step - loss: 0.0160 - accuracy: 0.9994 - val_loss: 0.0195 - val_accuracy: 0.9983\n",
      "Epoch 31/1000\n",
      " 1/28 [>.............................] - ETA: 0s - loss: 0.0140 - accuracy: 1.0000\n",
      "Epoch 00031: val_loss improved from 0.01948 to 0.01673, saving model to /home/diabolokiat/seadrone-project/catkin_ws/src/object_detection/src/model/keypoint_classifier/keypoint_classifier.hdf5\n",
      "28/28 [==============================] - 0s 2ms/step - loss: 0.0149 - accuracy: 0.9994 - val_loss: 0.0167 - val_accuracy: 0.9983\n",
      "Epoch 32/1000\n",
      " 1/28 [>.............................] - ETA: 0s - loss: 0.0094 - accuracy: 1.0000\n",
      "Epoch 00032: val_loss improved from 0.01673 to 0.01606, saving model to /home/diabolokiat/seadrone-project/catkin_ws/src/object_detection/src/model/keypoint_classifier/keypoint_classifier.hdf5\n",
      "28/28 [==============================] - 0s 2ms/step - loss: 0.0137 - accuracy: 0.9994 - val_loss: 0.0161 - val_accuracy: 0.9983\n",
      "Epoch 33/1000\n",
      " 1/28 [>.............................] - ETA: 0s - loss: 0.0104 - accuracy: 1.0000\n",
      "Epoch 00033: val_loss improved from 0.01606 to 0.01442, saving model to /home/diabolokiat/seadrone-project/catkin_ws/src/object_detection/src/model/keypoint_classifier/keypoint_classifier.hdf5\n",
      "28/28 [==============================] - 0s 2ms/step - loss: 0.0129 - accuracy: 0.9994 - val_loss: 0.0144 - val_accuracy: 0.9983\n",
      "Epoch 34/1000\n",
      " 1/28 [>.............................] - ETA: 0s - loss: 0.0188 - accuracy: 1.0000\n",
      "Epoch 00034: val_loss improved from 0.01442 to 0.01332, saving model to /home/diabolokiat/seadrone-project/catkin_ws/src/object_detection/src/model/keypoint_classifier/keypoint_classifier.hdf5\n",
      "28/28 [==============================] - 0s 2ms/step - loss: 0.0126 - accuracy: 0.9994 - val_loss: 0.0133 - val_accuracy: 0.9983\n",
      "Epoch 35/1000\n",
      " 1/28 [>.............................] - ETA: 0s - loss: 0.0088 - accuracy: 1.0000\n",
      "Epoch 00035: val_loss improved from 0.01332 to 0.01299, saving model to /home/diabolokiat/seadrone-project/catkin_ws/src/object_detection/src/model/keypoint_classifier/keypoint_classifier.hdf5\n",
      "28/28 [==============================] - 0s 2ms/step - loss: 0.0106 - accuracy: 0.9994 - val_loss: 0.0130 - val_accuracy: 1.0000\n",
      "Epoch 36/1000\n",
      " 1/28 [>.............................] - ETA: 0s - loss: 0.0081 - accuracy: 1.0000\n",
      "Epoch 00036: val_loss did not improve from 0.01299\n",
      "28/28 [==============================] - 0s 1ms/step - loss: 0.0103 - accuracy: 0.9994 - val_loss: 0.0135 - val_accuracy: 0.9983\n",
      "Epoch 37/1000\n",
      " 1/28 [>.............................] - ETA: 0s - loss: 0.0040 - accuracy: 1.0000\n",
      "Epoch 00037: val_loss improved from 0.01299 to 0.01116, saving model to /home/diabolokiat/seadrone-project/catkin_ws/src/object_detection/src/model/keypoint_classifier/keypoint_classifier.hdf5\n",
      "28/28 [==============================] - 0s 2ms/step - loss: 0.0095 - accuracy: 0.9994 - val_loss: 0.0112 - val_accuracy: 0.9983\n",
      "Epoch 38/1000\n",
      " 1/28 [>.............................] - ETA: 0s - loss: 0.0092 - accuracy: 1.0000\n",
      "Epoch 00038: val_loss improved from 0.01116 to 0.01116, saving model to /home/diabolokiat/seadrone-project/catkin_ws/src/object_detection/src/model/keypoint_classifier/keypoint_classifier.hdf5\n",
      "28/28 [==============================] - 0s 2ms/step - loss: 0.0090 - accuracy: 0.9994 - val_loss: 0.0112 - val_accuracy: 0.9983\n",
      "Epoch 39/1000\n",
      " 1/28 [>.............................] - ETA: 0s - loss: 0.0065 - accuracy: 1.0000\n",
      "Epoch 00039: val_loss improved from 0.01116 to 0.01015, saving model to /home/diabolokiat/seadrone-project/catkin_ws/src/object_detection/src/model/keypoint_classifier/keypoint_classifier.hdf5\n",
      "28/28 [==============================] - 0s 2ms/step - loss: 0.0084 - accuracy: 1.0000 - val_loss: 0.0101 - val_accuracy: 0.9983\n",
      "Epoch 40/1000\n",
      " 1/28 [>.............................] - ETA: 0s - loss: 0.0080 - accuracy: 1.0000\n",
      "Epoch 00040: val_loss did not improve from 0.01015\n",
      "28/28 [==============================] - 0s 1ms/step - loss: 0.0078 - accuracy: 0.9994 - val_loss: 0.0104 - val_accuracy: 0.9983\n",
      "Epoch 41/1000\n",
      " 1/28 [>.............................] - ETA: 0s - loss: 0.0074 - accuracy: 1.0000\n",
      "Epoch 00041: val_loss improved from 0.01015 to 0.00958, saving model to /home/diabolokiat/seadrone-project/catkin_ws/src/object_detection/src/model/keypoint_classifier/keypoint_classifier.hdf5\n",
      "28/28 [==============================] - 0s 2ms/step - loss: 0.0072 - accuracy: 1.0000 - val_loss: 0.0096 - val_accuracy: 0.9983\n"
     ]
    },
    {
     "name": "stdout",
     "output_type": "stream",
     "text": [
      "Epoch 42/1000\n",
      " 1/28 [>.............................] - ETA: 0s - loss: 0.0053 - accuracy: 1.0000\n",
      "Epoch 00042: val_loss did not improve from 0.00958\n",
      "28/28 [==============================] - 0s 1ms/step - loss: 0.0072 - accuracy: 0.9994 - val_loss: 0.0099 - val_accuracy: 0.9983\n",
      "Epoch 43/1000\n",
      " 1/28 [>.............................] - ETA: 0s - loss: 0.0038 - accuracy: 1.0000\n",
      "Epoch 00043: val_loss improved from 0.00958 to 0.00776, saving model to /home/diabolokiat/seadrone-project/catkin_ws/src/object_detection/src/model/keypoint_classifier/keypoint_classifier.hdf5\n",
      "28/28 [==============================] - 0s 2ms/step - loss: 0.0067 - accuracy: 0.9994 - val_loss: 0.0078 - val_accuracy: 1.0000\n",
      "Epoch 44/1000\n",
      " 1/28 [>.............................] - ETA: 0s - loss: 0.0050 - accuracy: 1.0000\n",
      "Epoch 00044: val_loss did not improve from 0.00776\n",
      "28/28 [==============================] - 0s 1ms/step - loss: 0.0060 - accuracy: 1.0000 - val_loss: 0.0089 - val_accuracy: 0.9983\n",
      "Epoch 45/1000\n",
      " 1/28 [>.............................] - ETA: 0s - loss: 0.0057 - accuracy: 1.0000\n",
      "Epoch 00045: val_loss did not improve from 0.00776\n",
      "28/28 [==============================] - 0s 1ms/step - loss: 0.0059 - accuracy: 1.0000 - val_loss: 0.0083 - val_accuracy: 0.9983\n",
      "Epoch 46/1000\n",
      " 1/28 [>.............................] - ETA: 0s - loss: 0.0056 - accuracy: 1.0000\n",
      "Epoch 00046: val_loss did not improve from 0.00776\n",
      "28/28 [==============================] - 0s 1ms/step - loss: 0.0058 - accuracy: 1.0000 - val_loss: 0.0081 - val_accuracy: 0.9983\n",
      "Epoch 47/1000\n",
      " 1/28 [>.............................] - ETA: 0s - loss: 0.0045 - accuracy: 1.0000\n",
      "Epoch 00047: val_loss improved from 0.00776 to 0.00752, saving model to /home/diabolokiat/seadrone-project/catkin_ws/src/object_detection/src/model/keypoint_classifier/keypoint_classifier.hdf5\n",
      "28/28 [==============================] - 0s 2ms/step - loss: 0.0054 - accuracy: 1.0000 - val_loss: 0.0075 - val_accuracy: 0.9983\n",
      "Epoch 48/1000\n",
      " 1/28 [>.............................] - ETA: 0s - loss: 0.0041 - accuracy: 1.0000\n",
      "Epoch 00048: val_loss improved from 0.00752 to 0.00732, saving model to /home/diabolokiat/seadrone-project/catkin_ws/src/object_detection/src/model/keypoint_classifier/keypoint_classifier.hdf5\n",
      "28/28 [==============================] - 0s 2ms/step - loss: 0.0052 - accuracy: 1.0000 - val_loss: 0.0073 - val_accuracy: 0.9983\n",
      "Epoch 49/1000\n",
      " 1/28 [>.............................] - ETA: 0s - loss: 0.0037 - accuracy: 1.0000\n",
      "Epoch 00049: val_loss improved from 0.00732 to 0.00687, saving model to /home/diabolokiat/seadrone-project/catkin_ws/src/object_detection/src/model/keypoint_classifier/keypoint_classifier.hdf5\n",
      "28/28 [==============================] - 0s 2ms/step - loss: 0.0050 - accuracy: 1.0000 - val_loss: 0.0069 - val_accuracy: 0.9983\n",
      "Epoch 50/1000\n",
      " 1/28 [>.............................] - ETA: 0s - loss: 0.0042 - accuracy: 1.0000\n",
      "Epoch 00050: val_loss did not improve from 0.00687\n",
      "28/28 [==============================] - 0s 1ms/step - loss: 0.0046 - accuracy: 1.0000 - val_loss: 0.0071 - val_accuracy: 0.9983\n",
      "Epoch 51/1000\n",
      " 1/28 [>.............................] - ETA: 0s - loss: 0.0041 - accuracy: 1.0000\n",
      "Epoch 00051: val_loss improved from 0.00687 to 0.00583, saving model to /home/diabolokiat/seadrone-project/catkin_ws/src/object_detection/src/model/keypoint_classifier/keypoint_classifier.hdf5\n",
      "28/28 [==============================] - 0s 2ms/step - loss: 0.0042 - accuracy: 1.0000 - val_loss: 0.0058 - val_accuracy: 0.9983\n",
      "Epoch 52/1000\n",
      " 1/28 [>.............................] - ETA: 0s - loss: 0.0051 - accuracy: 1.0000\n",
      "Epoch 00052: val_loss did not improve from 0.00583\n",
      "28/28 [==============================] - 0s 1ms/step - loss: 0.0042 - accuracy: 1.0000 - val_loss: 0.0063 - val_accuracy: 0.9983\n",
      "Epoch 53/1000\n",
      " 1/28 [>.............................] - ETA: 0s - loss: 0.0027 - accuracy: 1.0000\n",
      "Epoch 00053: val_loss improved from 0.00583 to 0.00579, saving model to /home/diabolokiat/seadrone-project/catkin_ws/src/object_detection/src/model/keypoint_classifier/keypoint_classifier.hdf5\n",
      "28/28 [==============================] - 0s 2ms/step - loss: 0.0040 - accuracy: 1.0000 - val_loss: 0.0058 - val_accuracy: 0.9983\n",
      "Epoch 54/1000\n",
      " 1/28 [>.............................] - ETA: 0s - loss: 0.0024 - accuracy: 1.0000\n",
      "Epoch 00054: val_loss improved from 0.00579 to 0.00536, saving model to /home/diabolokiat/seadrone-project/catkin_ws/src/object_detection/src/model/keypoint_classifier/keypoint_classifier.hdf5\n",
      "28/28 [==============================] - 0s 1ms/step - loss: 0.0038 - accuracy: 1.0000 - val_loss: 0.0054 - val_accuracy: 0.9983\n",
      "Epoch 55/1000\n",
      " 1/28 [>.............................] - ETA: 0s - loss: 0.0037 - accuracy: 1.0000\n",
      "Epoch 00055: val_loss improved from 0.00536 to 0.00526, saving model to /home/diabolokiat/seadrone-project/catkin_ws/src/object_detection/src/model/keypoint_classifier/keypoint_classifier.hdf5\n",
      "28/28 [==============================] - 0s 1ms/step - loss: 0.0036 - accuracy: 1.0000 - val_loss: 0.0053 - val_accuracy: 0.9983\n",
      "Epoch 56/1000\n",
      " 1/28 [>.............................] - ETA: 0s - loss: 0.0050 - accuracy: 1.0000\n",
      "Epoch 00056: val_loss improved from 0.00526 to 0.00469, saving model to /home/diabolokiat/seadrone-project/catkin_ws/src/object_detection/src/model/keypoint_classifier/keypoint_classifier.hdf5\n",
      "28/28 [==============================] - 0s 2ms/step - loss: 0.0036 - accuracy: 0.9994 - val_loss: 0.0047 - val_accuracy: 1.0000\n",
      "Epoch 57/1000\n",
      " 1/28 [>.............................] - ETA: 0s - loss: 0.0020 - accuracy: 1.0000\n",
      "Epoch 00057: val_loss did not improve from 0.00469\n",
      "28/28 [==============================] - 0s 1ms/step - loss: 0.0035 - accuracy: 1.0000 - val_loss: 0.0048 - val_accuracy: 0.9983\n",
      "Epoch 58/1000\n",
      " 1/28 [>.............................] - ETA: 0s - loss: 0.0021 - accuracy: 1.0000\n",
      "Epoch 00058: val_loss did not improve from 0.00469\n",
      "28/28 [==============================] - 0s 1ms/step - loss: 0.0032 - accuracy: 1.0000 - val_loss: 0.0048 - val_accuracy: 1.0000\n",
      "Epoch 59/1000\n",
      " 1/28 [>.............................] - ETA: 0s - loss: 0.0031 - accuracy: 1.0000\n",
      "Epoch 00059: val_loss did not improve from 0.00469\n",
      "28/28 [==============================] - 0s 1ms/step - loss: 0.0033 - accuracy: 1.0000 - val_loss: 0.0052 - val_accuracy: 1.0000\n",
      "Epoch 60/1000\n",
      " 1/28 [>.............................] - ETA: 0s - loss: 0.0021 - accuracy: 1.0000\n",
      "Epoch 00060: val_loss improved from 0.00469 to 0.00439, saving model to /home/diabolokiat/seadrone-project/catkin_ws/src/object_detection/src/model/keypoint_classifier/keypoint_classifier.hdf5\n",
      "28/28 [==============================] - 0s 1ms/step - loss: 0.0033 - accuracy: 1.0000 - val_loss: 0.0044 - val_accuracy: 0.9983\n",
      "Epoch 61/1000\n",
      " 1/28 [>.............................] - ETA: 0s - loss: 0.0023 - accuracy: 1.0000\n",
      "Epoch 00061: val_loss did not improve from 0.00439\n",
      "28/28 [==============================] - 0s 1ms/step - loss: 0.0029 - accuracy: 1.0000 - val_loss: 0.0046 - val_accuracy: 0.9983\n",
      "Epoch 62/1000\n",
      " 1/28 [>.............................] - ETA: 0s - loss: 0.0019 - accuracy: 1.0000\n",
      "Epoch 00062: val_loss did not improve from 0.00439\n",
      "28/28 [==============================] - 0s 1ms/step - loss: 0.0029 - accuracy: 1.0000 - val_loss: 0.0046 - val_accuracy: 0.9983\n",
      "Epoch 63/1000\n",
      " 1/28 [>.............................] - ETA: 0s - loss: 0.0019 - accuracy: 1.0000\n",
      "Epoch 00063: val_loss improved from 0.00439 to 0.00433, saving model to /home/diabolokiat/seadrone-project/catkin_ws/src/object_detection/src/model/keypoint_classifier/keypoint_classifier.hdf5\n",
      "28/28 [==============================] - 0s 2ms/step - loss: 0.0027 - accuracy: 1.0000 - val_loss: 0.0043 - val_accuracy: 0.9983\n",
      "Epoch 64/1000\n",
      " 1/28 [>.............................] - ETA: 0s - loss: 0.0017 - accuracy: 1.0000\n",
      "Epoch 00064: val_loss improved from 0.00433 to 0.00363, saving model to /home/diabolokiat/seadrone-project/catkin_ws/src/object_detection/src/model/keypoint_classifier/keypoint_classifier.hdf5\n",
      "28/28 [==============================] - 0s 2ms/step - loss: 0.0025 - accuracy: 1.0000 - val_loss: 0.0036 - val_accuracy: 1.0000\n",
      "Epoch 65/1000\n",
      " 1/28 [>.............................] - ETA: 0s - loss: 0.0015 - accuracy: 1.0000\n",
      "Epoch 00065: val_loss did not improve from 0.00363\n",
      "28/28 [==============================] - 0s 1ms/step - loss: 0.0024 - accuracy: 1.0000 - val_loss: 0.0047 - val_accuracy: 0.9983\n"
     ]
    },
    {
     "name": "stdout",
     "output_type": "stream",
     "text": [
      "Epoch 66/1000\n",
      " 1/28 [>.............................] - ETA: 0s - loss: 0.0021 - accuracy: 1.0000\n",
      "Epoch 00066: val_loss did not improve from 0.00363\n",
      "28/28 [==============================] - 0s 1ms/step - loss: 0.0024 - accuracy: 1.0000 - val_loss: 0.0038 - val_accuracy: 0.9983\n",
      "Epoch 67/1000\n",
      " 1/28 [>.............................] - ETA: 0s - loss: 0.0011 - accuracy: 1.0000\n",
      "Epoch 00067: val_loss improved from 0.00363 to 0.00353, saving model to /home/diabolokiat/seadrone-project/catkin_ws/src/object_detection/src/model/keypoint_classifier/keypoint_classifier.hdf5\n",
      "28/28 [==============================] - 0s 2ms/step - loss: 0.0027 - accuracy: 1.0000 - val_loss: 0.0035 - val_accuracy: 0.9983\n",
      "Epoch 68/1000\n",
      " 1/28 [>.............................] - ETA: 0s - loss: 0.0010 - accuracy: 1.0000\n",
      "Epoch 00068: val_loss did not improve from 0.00353\n",
      "28/28 [==============================] - 0s 1ms/step - loss: 0.0023 - accuracy: 1.0000 - val_loss: 0.0041 - val_accuracy: 1.0000\n",
      "Epoch 69/1000\n",
      " 1/28 [>.............................] - ETA: 0s - loss: 5.5876e-04 - accuracy: 1.0000\n",
      "Epoch 00069: val_loss improved from 0.00353 to 0.00349, saving model to /home/diabolokiat/seadrone-project/catkin_ws/src/object_detection/src/model/keypoint_classifier/keypoint_classifier.hdf5\n",
      "28/28 [==============================] - 0s 2ms/step - loss: 0.0023 - accuracy: 1.0000 - val_loss: 0.0035 - val_accuracy: 1.0000\n",
      "Epoch 70/1000\n",
      " 1/28 [>.............................] - ETA: 0s - loss: 0.0027 - accuracy: 1.0000\n",
      "Epoch 00070: val_loss did not improve from 0.00349\n",
      "28/28 [==============================] - 0s 1ms/step - loss: 0.0022 - accuracy: 1.0000 - val_loss: 0.0037 - val_accuracy: 1.0000\n",
      "Epoch 71/1000\n",
      " 1/28 [>.............................] - ETA: 0s - loss: 0.0035 - accuracy: 1.0000\n",
      "Epoch 00071: val_loss did not improve from 0.00349\n",
      "28/28 [==============================] - 0s 1ms/step - loss: 0.0021 - accuracy: 1.0000 - val_loss: 0.0037 - val_accuracy: 0.9983\n",
      "Epoch 72/1000\n",
      " 1/28 [>.............................] - ETA: 0s - loss: 0.0015 - accuracy: 1.0000\n",
      "Epoch 00072: val_loss improved from 0.00349 to 0.00349, saving model to /home/diabolokiat/seadrone-project/catkin_ws/src/object_detection/src/model/keypoint_classifier/keypoint_classifier.hdf5\n",
      "28/28 [==============================] - 0s 2ms/step - loss: 0.0021 - accuracy: 1.0000 - val_loss: 0.0035 - val_accuracy: 1.0000\n",
      "Epoch 73/1000\n",
      " 1/28 [>.............................] - ETA: 0s - loss: 0.0043 - accuracy: 1.0000\n",
      "Epoch 00073: val_loss improved from 0.00349 to 0.00296, saving model to /home/diabolokiat/seadrone-project/catkin_ws/src/object_detection/src/model/keypoint_classifier/keypoint_classifier.hdf5\n",
      "28/28 [==============================] - 0s 1ms/step - loss: 0.0018 - accuracy: 1.0000 - val_loss: 0.0030 - val_accuracy: 1.0000\n",
      "Epoch 74/1000\n",
      " 1/28 [>.............................] - ETA: 0s - loss: 7.0851e-04 - accuracy: 1.0000\n",
      "Epoch 00074: val_loss did not improve from 0.00296\n",
      "28/28 [==============================] - 0s 1ms/step - loss: 0.0018 - accuracy: 1.0000 - val_loss: 0.0031 - val_accuracy: 0.9983\n",
      "Epoch 75/1000\n",
      " 1/28 [>.............................] - ETA: 0s - loss: 0.0021 - accuracy: 1.0000\n",
      "Epoch 00075: val_loss did not improve from 0.00296\n",
      "28/28 [==============================] - 0s 1ms/step - loss: 0.0019 - accuracy: 1.0000 - val_loss: 0.0031 - val_accuracy: 1.0000\n",
      "Epoch 76/1000\n",
      " 1/28 [>.............................] - ETA: 0s - loss: 0.0010 - accuracy: 1.0000\n",
      "Epoch 00076: val_loss improved from 0.00296 to 0.00255, saving model to /home/diabolokiat/seadrone-project/catkin_ws/src/object_detection/src/model/keypoint_classifier/keypoint_classifier.hdf5\n",
      "28/28 [==============================] - 0s 2ms/step - loss: 0.0017 - accuracy: 1.0000 - val_loss: 0.0025 - val_accuracy: 1.0000\n",
      "Epoch 77/1000\n",
      " 1/28 [>.............................] - ETA: 0s - loss: 0.0012 - accuracy: 1.0000\n",
      "Epoch 00077: val_loss improved from 0.00255 to 0.00248, saving model to /home/diabolokiat/seadrone-project/catkin_ws/src/object_detection/src/model/keypoint_classifier/keypoint_classifier.hdf5\n",
      "28/28 [==============================] - 0s 2ms/step - loss: 0.0016 - accuracy: 1.0000 - val_loss: 0.0025 - val_accuracy: 1.0000\n",
      "Epoch 78/1000\n",
      " 1/28 [>.............................] - ETA: 0s - loss: 0.0025 - accuracy: 1.0000\n",
      "Epoch 00078: val_loss did not improve from 0.00248\n",
      "28/28 [==============================] - 0s 1ms/step - loss: 0.0018 - accuracy: 1.0000 - val_loss: 0.0041 - val_accuracy: 0.9983\n",
      "Epoch 79/1000\n",
      " 1/28 [>.............................] - ETA: 0s - loss: 9.4915e-04 - accuracy: 1.0000\n",
      "Epoch 00079: val_loss improved from 0.00248 to 0.00223, saving model to /home/diabolokiat/seadrone-project/catkin_ws/src/object_detection/src/model/keypoint_classifier/keypoint_classifier.hdf5\n",
      "28/28 [==============================] - 0s 2ms/step - loss: 0.0016 - accuracy: 1.0000 - val_loss: 0.0022 - val_accuracy: 1.0000\n",
      "Epoch 80/1000\n",
      " 1/28 [>.............................] - ETA: 0s - loss: 0.0015 - accuracy: 1.0000\n",
      "Epoch 00080: val_loss did not improve from 0.00223\n",
      "28/28 [==============================] - 0s 1ms/step - loss: 0.0017 - accuracy: 1.0000 - val_loss: 0.0033 - val_accuracy: 1.0000\n",
      "Epoch 81/1000\n",
      " 1/28 [>.............................] - ETA: 0s - loss: 0.0016 - accuracy: 1.0000\n",
      "Epoch 00081: val_loss did not improve from 0.00223\n",
      "28/28 [==============================] - 0s 1ms/step - loss: 0.0016 - accuracy: 1.0000 - val_loss: 0.0043 - val_accuracy: 1.0000\n",
      "Epoch 82/1000\n",
      " 1/28 [>.............................] - ETA: 0s - loss: 7.5850e-04 - accuracy: 1.0000\n",
      "Epoch 00082: val_loss did not improve from 0.00223\n",
      "28/28 [==============================] - 0s 1ms/step - loss: 0.0014 - accuracy: 1.0000 - val_loss: 0.0026 - val_accuracy: 1.0000\n",
      "Epoch 83/1000\n",
      " 1/28 [>.............................] - ETA: 0s - loss: 0.0010 - accuracy: 1.0000\n",
      "Epoch 00083: val_loss improved from 0.00223 to 0.00199, saving model to /home/diabolokiat/seadrone-project/catkin_ws/src/object_detection/src/model/keypoint_classifier/keypoint_classifier.hdf5\n",
      "28/28 [==============================] - 0s 2ms/step - loss: 0.0013 - accuracy: 1.0000 - val_loss: 0.0020 - val_accuracy: 1.0000\n",
      "Epoch 84/1000\n",
      " 1/28 [>.............................] - ETA: 0s - loss: 4.8654e-04 - accuracy: 1.0000\n",
      "Epoch 00084: val_loss did not improve from 0.00199\n",
      "28/28 [==============================] - 0s 1ms/step - loss: 0.0015 - accuracy: 1.0000 - val_loss: 0.0024 - val_accuracy: 1.0000\n",
      "Epoch 85/1000\n",
      " 1/28 [>.............................] - ETA: 0s - loss: 4.3369e-04 - accuracy: 1.0000\n",
      "Epoch 00085: val_loss did not improve from 0.00199\n",
      "28/28 [==============================] - 0s 1ms/step - loss: 0.0012 - accuracy: 1.0000 - val_loss: 0.0023 - val_accuracy: 1.0000\n",
      "Epoch 86/1000\n",
      " 1/28 [>.............................] - ETA: 0s - loss: 9.0353e-04 - accuracy: 1.0000\n",
      "Epoch 00086: val_loss did not improve from 0.00199\n",
      "28/28 [==============================] - 0s 1ms/step - loss: 0.0014 - accuracy: 1.0000 - val_loss: 0.0033 - val_accuracy: 1.0000\n",
      "Epoch 87/1000\n",
      " 1/28 [>.............................] - ETA: 0s - loss: 0.0013 - accuracy: 1.0000\n",
      "Epoch 00087: val_loss did not improve from 0.00199\n",
      "28/28 [==============================] - 0s 1ms/step - loss: 0.0013 - accuracy: 1.0000 - val_loss: 0.0021 - val_accuracy: 1.0000\n",
      "Epoch 88/1000\n",
      " 1/28 [>.............................] - ETA: 0s - loss: 5.5992e-04 - accuracy: 1.0000\n",
      "Epoch 00088: val_loss did not improve from 0.00199\n",
      "28/28 [==============================] - 0s 1ms/step - loss: 0.0012 - accuracy: 1.0000 - val_loss: 0.0023 - val_accuracy: 1.0000\n",
      "Epoch 89/1000\n",
      " 1/28 [>.............................] - ETA: 0s - loss: 0.0027 - accuracy: 1.0000\n",
      "Epoch 00089: val_loss improved from 0.00199 to 0.00198, saving model to /home/diabolokiat/seadrone-project/catkin_ws/src/object_detection/src/model/keypoint_classifier/keypoint_classifier.hdf5\n",
      "28/28 [==============================] - 0s 2ms/step - loss: 0.0011 - accuracy: 1.0000 - val_loss: 0.0020 - val_accuracy: 1.0000\n",
      "Epoch 90/1000\n",
      " 1/28 [>.............................] - ETA: 0s - loss: 0.0014 - accuracy: 1.0000\n",
      "Epoch 00090: val_loss did not improve from 0.00198\n",
      "28/28 [==============================] - 0s 1ms/step - loss: 0.0012 - accuracy: 1.0000 - val_loss: 0.0027 - val_accuracy: 1.0000\n"
     ]
    },
    {
     "name": "stdout",
     "output_type": "stream",
     "text": [
      "Epoch 91/1000\n",
      " 1/28 [>.............................] - ETA: 0s - loss: 0.0012 - accuracy: 1.0000\n",
      "Epoch 00091: val_loss did not improve from 0.00198\n",
      "28/28 [==============================] - 0s 1ms/step - loss: 0.0012 - accuracy: 1.0000 - val_loss: 0.0023 - val_accuracy: 1.0000\n",
      "Epoch 92/1000\n",
      " 1/28 [>.............................] - ETA: 0s - loss: 4.4029e-04 - accuracy: 1.0000\n",
      "Epoch 00092: val_loss did not improve from 0.00198\n",
      "28/28 [==============================] - 0s 1ms/step - loss: 0.0011 - accuracy: 1.0000 - val_loss: 0.0024 - val_accuracy: 1.0000\n",
      "Epoch 93/1000\n",
      " 1/28 [>.............................] - ETA: 0s - loss: 9.5750e-04 - accuracy: 1.0000\n",
      "Epoch 00093: val_loss did not improve from 0.00198\n",
      "28/28 [==============================] - 0s 1ms/step - loss: 0.0010 - accuracy: 1.0000 - val_loss: 0.0020 - val_accuracy: 1.0000\n",
      "Epoch 94/1000\n",
      " 1/28 [>.............................] - ETA: 0s - loss: 0.0018 - accuracy: 1.0000\n",
      "Epoch 00094: val_loss did not improve from 0.00198\n",
      "28/28 [==============================] - 0s 1ms/step - loss: 0.0010 - accuracy: 1.0000 - val_loss: 0.0025 - val_accuracy: 0.9983\n",
      "Epoch 95/1000\n",
      " 1/28 [>.............................] - ETA: 0s - loss: 3.4980e-04 - accuracy: 1.0000\n",
      "Epoch 00095: val_loss improved from 0.00198 to 0.00185, saving model to /home/diabolokiat/seadrone-project/catkin_ws/src/object_detection/src/model/keypoint_classifier/keypoint_classifier.hdf5\n",
      "28/28 [==============================] - 0s 2ms/step - loss: 0.0013 - accuracy: 1.0000 - val_loss: 0.0019 - val_accuracy: 1.0000\n",
      "Epoch 96/1000\n",
      " 1/28 [>.............................] - ETA: 0s - loss: 4.2203e-04 - accuracy: 1.0000\n",
      "Epoch 00096: val_loss did not improve from 0.00185\n",
      "28/28 [==============================] - 0s 1ms/step - loss: 9.4016e-04 - accuracy: 1.0000 - val_loss: 0.0024 - val_accuracy: 1.0000\n",
      "Epoch 97/1000\n",
      " 1/28 [>.............................] - ETA: 0s - loss: 4.0870e-04 - accuracy: 1.0000\n",
      "Epoch 00097: val_loss did not improve from 0.00185\n",
      "28/28 [==============================] - 0s 1ms/step - loss: 9.1787e-04 - accuracy: 1.0000 - val_loss: 0.0019 - val_accuracy: 1.0000\n",
      "Epoch 98/1000\n",
      " 1/28 [>.............................] - ETA: 0s - loss: 9.9901e-04 - accuracy: 1.0000\n",
      "Epoch 00098: val_loss improved from 0.00185 to 0.00161, saving model to /home/diabolokiat/seadrone-project/catkin_ws/src/object_detection/src/model/keypoint_classifier/keypoint_classifier.hdf5\n",
      "28/28 [==============================] - 0s 2ms/step - loss: 9.9194e-04 - accuracy: 1.0000 - val_loss: 0.0016 - val_accuracy: 1.0000\n",
      "Epoch 99/1000\n",
      " 1/28 [>.............................] - ETA: 0s - loss: 0.0012 - accuracy: 1.0000\n",
      "Epoch 00099: val_loss did not improve from 0.00161\n",
      "28/28 [==============================] - 0s 1ms/step - loss: 0.0011 - accuracy: 1.0000 - val_loss: 0.0021 - val_accuracy: 0.9983\n",
      "Epoch 100/1000\n",
      " 1/28 [>.............................] - ETA: 0s - loss: 0.0015 - accuracy: 1.0000\n",
      "Epoch 00100: val_loss did not improve from 0.00161\n",
      "28/28 [==============================] - 0s 1ms/step - loss: 9.4435e-04 - accuracy: 1.0000 - val_loss: 0.0019 - val_accuracy: 1.0000\n",
      "Epoch 101/1000\n",
      " 1/28 [>.............................] - ETA: 0s - loss: 6.0821e-04 - accuracy: 1.0000\n",
      "Epoch 00101: val_loss did not improve from 0.00161\n",
      "28/28 [==============================] - 0s 1ms/step - loss: 8.5056e-04 - accuracy: 1.0000 - val_loss: 0.0018 - val_accuracy: 1.0000\n",
      "Epoch 102/1000\n",
      " 1/28 [>.............................] - ETA: 0s - loss: 6.1283e-04 - accuracy: 1.0000\n",
      "Epoch 00102: val_loss did not improve from 0.00161\n",
      "28/28 [==============================] - 0s 1ms/step - loss: 7.7822e-04 - accuracy: 1.0000 - val_loss: 0.0018 - val_accuracy: 1.0000\n",
      "Epoch 103/1000\n",
      " 1/28 [>.............................] - ETA: 0s - loss: 5.9176e-04 - accuracy: 1.0000\n",
      "Epoch 00103: val_loss did not improve from 0.00161\n",
      "28/28 [==============================] - 0s 1ms/step - loss: 7.7986e-04 - accuracy: 1.0000 - val_loss: 0.0016 - val_accuracy: 1.0000\n",
      "Epoch 104/1000\n",
      " 1/28 [>.............................] - ETA: 0s - loss: 4.3498e-04 - accuracy: 1.0000\n",
      "Epoch 00104: val_loss did not improve from 0.00161\n",
      "28/28 [==============================] - 0s 1ms/step - loss: 8.4717e-04 - accuracy: 1.0000 - val_loss: 0.0018 - val_accuracy: 1.0000\n",
      "Epoch 105/1000\n",
      " 1/28 [>.............................] - ETA: 0s - loss: 0.0015 - accuracy: 1.0000\n",
      "Epoch 00105: val_loss did not improve from 0.00161\n",
      "28/28 [==============================] - 0s 1ms/step - loss: 9.8132e-04 - accuracy: 1.0000 - val_loss: 0.0022 - val_accuracy: 0.9983\n",
      "Epoch 106/1000\n",
      " 1/28 [>.............................] - ETA: 0s - loss: 3.9314e-04 - accuracy: 1.0000\n",
      "Epoch 00106: val_loss improved from 0.00161 to 0.00161, saving model to /home/diabolokiat/seadrone-project/catkin_ws/src/object_detection/src/model/keypoint_classifier/keypoint_classifier.hdf5\n",
      "28/28 [==============================] - 0s 2ms/step - loss: 9.0228e-04 - accuracy: 1.0000 - val_loss: 0.0016 - val_accuracy: 1.0000\n",
      "Epoch 107/1000\n",
      " 1/28 [>.............................] - ETA: 0s - loss: 3.7733e-04 - accuracy: 1.0000\n",
      "Epoch 00107: val_loss did not improve from 0.00161\n",
      "28/28 [==============================] - 0s 1ms/step - loss: 7.9843e-04 - accuracy: 1.0000 - val_loss: 0.0018 - val_accuracy: 1.0000\n",
      "Epoch 108/1000\n",
      " 1/28 [>.............................] - ETA: 0s - loss: 2.4859e-04 - accuracy: 1.0000\n",
      "Epoch 00108: val_loss improved from 0.00161 to 0.00153, saving model to /home/diabolokiat/seadrone-project/catkin_ws/src/object_detection/src/model/keypoint_classifier/keypoint_classifier.hdf5\n",
      "28/28 [==============================] - 0s 2ms/step - loss: 6.9543e-04 - accuracy: 1.0000 - val_loss: 0.0015 - val_accuracy: 1.0000\n",
      "Epoch 109/1000\n",
      " 1/28 [>.............................] - ETA: 0s - loss: 4.1630e-04 - accuracy: 1.0000\n",
      "Epoch 00109: val_loss did not improve from 0.00153\n",
      "28/28 [==============================] - 0s 1ms/step - loss: 7.9335e-04 - accuracy: 1.0000 - val_loss: 0.0019 - val_accuracy: 1.0000\n",
      "Epoch 110/1000\n",
      " 1/28 [>.............................] - ETA: 0s - loss: 3.1111e-04 - accuracy: 1.0000\n",
      "Epoch 00110: val_loss did not improve from 0.00153\n",
      "28/28 [==============================] - 0s 1ms/step - loss: 6.7329e-04 - accuracy: 1.0000 - val_loss: 0.0016 - val_accuracy: 1.0000\n",
      "Epoch 111/1000\n",
      " 1/28 [>.............................] - ETA: 0s - loss: 2.3775e-04 - accuracy: 1.0000\n",
      "Epoch 00111: val_loss improved from 0.00153 to 0.00142, saving model to /home/diabolokiat/seadrone-project/catkin_ws/src/object_detection/src/model/keypoint_classifier/keypoint_classifier.hdf5\n",
      "28/28 [==============================] - 0s 1ms/step - loss: 5.9814e-04 - accuracy: 1.0000 - val_loss: 0.0014 - val_accuracy: 1.0000\n",
      "Epoch 112/1000\n",
      " 1/28 [>.............................] - ETA: 0s - loss: 3.2294e-04 - accuracy: 1.0000\n",
      "Epoch 00112: val_loss improved from 0.00142 to 0.00137, saving model to /home/diabolokiat/seadrone-project/catkin_ws/src/object_detection/src/model/keypoint_classifier/keypoint_classifier.hdf5\n",
      "28/28 [==============================] - 0s 2ms/step - loss: 5.9281e-04 - accuracy: 1.0000 - val_loss: 0.0014 - val_accuracy: 1.0000\n",
      "Epoch 113/1000\n",
      " 1/28 [>.............................] - ETA: 0s - loss: 0.0041 - accuracy: 1.0000\n",
      "Epoch 00113: val_loss did not improve from 0.00137\n",
      "28/28 [==============================] - 0s 1ms/step - loss: 6.8940e-04 - accuracy: 1.0000 - val_loss: 0.0016 - val_accuracy: 1.0000\n",
      "Epoch 114/1000\n",
      " 1/28 [>.............................] - ETA: 0s - loss: 2.3625e-04 - accuracy: 1.0000\n",
      "Epoch 00114: val_loss did not improve from 0.00137\n",
      "28/28 [==============================] - 0s 1ms/step - loss: 5.9286e-04 - accuracy: 1.0000 - val_loss: 0.0016 - val_accuracy: 1.0000\n",
      "Epoch 115/1000\n",
      " 1/28 [>.............................] - ETA: 0s - loss: 3.8227e-04 - accuracy: 1.0000\n",
      "Epoch 00115: val_loss did not improve from 0.00137\n",
      "28/28 [==============================] - 0s 1ms/step - loss: 6.3992e-04 - accuracy: 1.0000 - val_loss: 0.0018 - val_accuracy: 1.0000\n",
      "Epoch 116/1000\n",
      " 1/28 [>.............................] - ETA: 0s - loss: 7.6500e-04 - accuracy: 1.0000\n",
      "Epoch 00116: val_loss did not improve from 0.00137\n",
      "28/28 [==============================] - 0s 1ms/step - loss: 5.7737e-04 - accuracy: 1.0000 - val_loss: 0.0015 - val_accuracy: 1.0000\n"
     ]
    },
    {
     "name": "stdout",
     "output_type": "stream",
     "text": [
      "Epoch 117/1000\n",
      " 1/28 [>.............................] - ETA: 0s - loss: 8.0424e-04 - accuracy: 1.0000\n",
      "Epoch 00117: val_loss did not improve from 0.00137\n",
      "28/28 [==============================] - 0s 1ms/step - loss: 5.6382e-04 - accuracy: 1.0000 - val_loss: 0.0014 - val_accuracy: 1.0000\n",
      "Epoch 118/1000\n",
      " 1/28 [>.............................] - ETA: 0s - loss: 5.1510e-04 - accuracy: 1.0000\n",
      "Epoch 00118: val_loss did not improve from 0.00137\n",
      "28/28 [==============================] - 0s 1ms/step - loss: 5.9219e-04 - accuracy: 1.0000 - val_loss: 0.0015 - val_accuracy: 1.0000\n",
      "Epoch 119/1000\n",
      " 1/28 [>.............................] - ETA: 0s - loss: 4.0861e-04 - accuracy: 1.0000\n",
      "Epoch 00119: val_loss improved from 0.00137 to 0.00132, saving model to /home/diabolokiat/seadrone-project/catkin_ws/src/object_detection/src/model/keypoint_classifier/keypoint_classifier.hdf5\n",
      "28/28 [==============================] - 0s 2ms/step - loss: 5.3054e-04 - accuracy: 1.0000 - val_loss: 0.0013 - val_accuracy: 1.0000\n",
      "Epoch 120/1000\n",
      " 1/28 [>.............................] - ETA: 0s - loss: 2.8577e-04 - accuracy: 1.0000\n",
      "Epoch 00120: val_loss did not improve from 0.00132\n",
      "28/28 [==============================] - 0s 1ms/step - loss: 5.2725e-04 - accuracy: 1.0000 - val_loss: 0.0014 - val_accuracy: 1.0000\n",
      "Epoch 121/1000\n",
      " 1/28 [>.............................] - ETA: 0s - loss: 0.0013 - accuracy: 1.0000\n",
      "Epoch 00121: val_loss did not improve from 0.00132\n",
      "28/28 [==============================] - 0s 1ms/step - loss: 6.7197e-04 - accuracy: 1.0000 - val_loss: 0.0015 - val_accuracy: 1.0000\n",
      "Epoch 122/1000\n",
      " 1/28 [>.............................] - ETA: 0s - loss: 9.1311e-04 - accuracy: 1.0000\n",
      "Epoch 00122: val_loss did not improve from 0.00132\n",
      "28/28 [==============================] - 0s 1ms/step - loss: 6.2267e-04 - accuracy: 1.0000 - val_loss: 0.0017 - val_accuracy: 1.0000\n",
      "Epoch 123/1000\n",
      " 1/28 [>.............................] - ETA: 0s - loss: 2.8299e-04 - accuracy: 1.0000\n",
      "Epoch 00123: val_loss improved from 0.00132 to 0.00121, saving model to /home/diabolokiat/seadrone-project/catkin_ws/src/object_detection/src/model/keypoint_classifier/keypoint_classifier.hdf5\n",
      "28/28 [==============================] - 0s 1ms/step - loss: 4.7697e-04 - accuracy: 1.0000 - val_loss: 0.0012 - val_accuracy: 1.0000\n",
      "Epoch 124/1000\n",
      " 1/28 [>.............................] - ETA: 0s - loss: 3.3676e-04 - accuracy: 1.0000\n",
      "Epoch 00124: val_loss improved from 0.00121 to 0.00116, saving model to /home/diabolokiat/seadrone-project/catkin_ws/src/object_detection/src/model/keypoint_classifier/keypoint_classifier.hdf5\n",
      "28/28 [==============================] - 0s 2ms/step - loss: 4.7944e-04 - accuracy: 1.0000 - val_loss: 0.0012 - val_accuracy: 1.0000\n",
      "Epoch 125/1000\n",
      " 1/28 [>.............................] - ETA: 0s - loss: 2.5115e-04 - accuracy: 1.0000\n",
      "Epoch 00125: val_loss did not improve from 0.00116\n",
      "28/28 [==============================] - 0s 1ms/step - loss: 5.2703e-04 - accuracy: 1.0000 - val_loss: 0.0013 - val_accuracy: 1.0000\n",
      "Epoch 126/1000\n",
      " 1/28 [>.............................] - ETA: 0s - loss: 2.8120e-04 - accuracy: 1.0000\n",
      "Epoch 00126: val_loss did not improve from 0.00116\n",
      "28/28 [==============================] - 0s 1ms/step - loss: 4.2058e-04 - accuracy: 1.0000 - val_loss: 0.0012 - val_accuracy: 1.0000\n",
      "Epoch 127/1000\n",
      " 1/28 [>.............................] - ETA: 0s - loss: 2.5355e-04 - accuracy: 1.0000\n",
      "Epoch 00127: val_loss did not improve from 0.00116\n",
      "28/28 [==============================] - 0s 1ms/step - loss: 4.1318e-04 - accuracy: 1.0000 - val_loss: 0.0012 - val_accuracy: 1.0000\n",
      "Epoch 128/1000\n",
      " 1/28 [>.............................] - ETA: 0s - loss: 4.3481e-04 - accuracy: 1.0000\n",
      "Epoch 00128: val_loss did not improve from 0.00116\n",
      "28/28 [==============================] - 0s 1ms/step - loss: 4.9318e-04 - accuracy: 1.0000 - val_loss: 0.0020 - val_accuracy: 1.0000\n",
      "Epoch 129/1000\n",
      " 1/28 [>.............................] - ETA: 0s - loss: 0.0026 - accuracy: 1.0000\n",
      "Epoch 00129: val_loss did not improve from 0.00116\n",
      "28/28 [==============================] - 0s 1ms/step - loss: 5.0237e-04 - accuracy: 1.0000 - val_loss: 0.0014 - val_accuracy: 1.0000\n",
      "Epoch 130/1000\n",
      " 1/28 [>.............................] - ETA: 0s - loss: 4.1588e-04 - accuracy: 1.0000\n",
      "Epoch 00130: val_loss did not improve from 0.00116\n",
      "28/28 [==============================] - 0s 1ms/step - loss: 3.9280e-04 - accuracy: 1.0000 - val_loss: 0.0013 - val_accuracy: 1.0000\n",
      "Epoch 131/1000\n",
      " 1/28 [>.............................] - ETA: 0s - loss: 7.0034e-04 - accuracy: 1.0000\n",
      "Epoch 00131: val_loss did not improve from 0.00116\n",
      "28/28 [==============================] - 0s 1ms/step - loss: 4.6343e-04 - accuracy: 1.0000 - val_loss: 0.0015 - val_accuracy: 1.0000\n",
      "Epoch 132/1000\n",
      " 1/28 [>.............................] - ETA: 0s - loss: 1.4809e-04 - accuracy: 1.0000\n",
      "Epoch 00132: val_loss did not improve from 0.00116\n",
      "28/28 [==============================] - 0s 1ms/step - loss: 6.2784e-04 - accuracy: 1.0000 - val_loss: 0.0014 - val_accuracy: 1.0000\n",
      "Epoch 133/1000\n",
      " 1/28 [>.............................] - ETA: 0s - loss: 1.5902e-04 - accuracy: 1.0000\n",
      "Epoch 00133: val_loss did not improve from 0.00116\n",
      "28/28 [==============================] - 0s 1ms/step - loss: 4.8493e-04 - accuracy: 1.0000 - val_loss: 0.0013 - val_accuracy: 1.0000\n",
      "Epoch 134/1000\n",
      " 1/28 [>.............................] - ETA: 0s - loss: 2.3964e-04 - accuracy: 1.0000\n",
      "Epoch 00134: val_loss did not improve from 0.00116\n",
      "28/28 [==============================] - 0s 1ms/step - loss: 3.6526e-04 - accuracy: 1.0000 - val_loss: 0.0015 - val_accuracy: 1.0000\n",
      "Epoch 135/1000\n",
      " 1/28 [>.............................] - ETA: 0s - loss: 1.4763e-04 - accuracy: 1.0000\n",
      "Epoch 00135: val_loss did not improve from 0.00116\n",
      "28/28 [==============================] - 0s 1ms/step - loss: 3.8625e-04 - accuracy: 1.0000 - val_loss: 0.0014 - val_accuracy: 1.0000\n",
      "Epoch 136/1000\n",
      " 1/28 [>.............................] - ETA: 0s - loss: 0.0013 - accuracy: 1.0000\n",
      "Epoch 00136: val_loss improved from 0.00116 to 0.00114, saving model to /home/diabolokiat/seadrone-project/catkin_ws/src/object_detection/src/model/keypoint_classifier/keypoint_classifier.hdf5\n",
      "28/28 [==============================] - 0s 2ms/step - loss: 3.6054e-04 - accuracy: 1.0000 - val_loss: 0.0011 - val_accuracy: 1.0000\n",
      "Epoch 137/1000\n",
      " 1/28 [>.............................] - ETA: 0s - loss: 2.4810e-04 - accuracy: 1.0000\n",
      "Epoch 00137: val_loss did not improve from 0.00114\n",
      "28/28 [==============================] - 0s 1ms/step - loss: 3.5434e-04 - accuracy: 1.0000 - val_loss: 0.0013 - val_accuracy: 1.0000\n",
      "Epoch 138/1000\n",
      " 1/28 [>.............................] - ETA: 0s - loss: 1.0701e-04 - accuracy: 1.0000\n",
      "Epoch 00138: val_loss improved from 0.00114 to 0.00109, saving model to /home/diabolokiat/seadrone-project/catkin_ws/src/object_detection/src/model/keypoint_classifier/keypoint_classifier.hdf5\n",
      "28/28 [==============================] - 0s 2ms/step - loss: 3.3184e-04 - accuracy: 1.0000 - val_loss: 0.0011 - val_accuracy: 1.0000\n",
      "Epoch 139/1000\n",
      " 1/28 [>.............................] - ETA: 0s - loss: 2.7226e-04 - accuracy: 1.0000\n",
      "Epoch 00139: val_loss did not improve from 0.00109\n",
      "28/28 [==============================] - 0s 1ms/step - loss: 3.5886e-04 - accuracy: 1.0000 - val_loss: 0.0012 - val_accuracy: 1.0000\n",
      "Epoch 140/1000\n",
      " 1/28 [>.............................] - ETA: 0s - loss: 1.7960e-04 - accuracy: 1.0000\n",
      "Epoch 00140: val_loss improved from 0.00109 to 0.00108, saving model to /home/diabolokiat/seadrone-project/catkin_ws/src/object_detection/src/model/keypoint_classifier/keypoint_classifier.hdf5\n",
      "28/28 [==============================] - 0s 2ms/step - loss: 3.3896e-04 - accuracy: 1.0000 - val_loss: 0.0011 - val_accuracy: 1.0000\n",
      "Epoch 141/1000\n",
      " 1/28 [>.............................] - ETA: 0s - loss: 9.2788e-05 - accuracy: 1.0000\n",
      "Epoch 00141: val_loss improved from 0.00108 to 0.00098, saving model to /home/diabolokiat/seadrone-project/catkin_ws/src/object_detection/src/model/keypoint_classifier/keypoint_classifier.hdf5\n",
      "28/28 [==============================] - 0s 2ms/step - loss: 3.4350e-04 - accuracy: 1.0000 - val_loss: 9.8346e-04 - val_accuracy: 1.0000\n",
      "Epoch 142/1000\n"
     ]
    },
    {
     "name": "stdout",
     "output_type": "stream",
     "text": [
      " 1/28 [>.............................] - ETA: 0s - loss: 0.0013 - accuracy: 1.0000\n",
      "Epoch 00142: val_loss did not improve from 0.00098\n",
      "28/28 [==============================] - 0s 1ms/step - loss: 5.8400e-04 - accuracy: 1.0000 - val_loss: 0.0011 - val_accuracy: 1.0000\n",
      "Epoch 143/1000\n",
      " 1/28 [>.............................] - ETA: 0s - loss: 1.7180e-04 - accuracy: 1.0000\n",
      "Epoch 00143: val_loss did not improve from 0.00098\n",
      "28/28 [==============================] - 0s 1ms/step - loss: 4.9489e-04 - accuracy: 1.0000 - val_loss: 0.0015 - val_accuracy: 1.0000\n",
      "Epoch 144/1000\n",
      " 1/28 [>.............................] - ETA: 0s - loss: 1.4291e-04 - accuracy: 1.0000\n",
      "Epoch 00144: val_loss improved from 0.00098 to 0.00091, saving model to /home/diabolokiat/seadrone-project/catkin_ws/src/object_detection/src/model/keypoint_classifier/keypoint_classifier.hdf5\n",
      "28/28 [==============================] - 0s 2ms/step - loss: 2.9323e-04 - accuracy: 1.0000 - val_loss: 9.0683e-04 - val_accuracy: 1.0000\n",
      "Epoch 145/1000\n",
      " 1/28 [>.............................] - ETA: 0s - loss: 3.7782e-04 - accuracy: 1.0000\n",
      "Epoch 00145: val_loss did not improve from 0.00091\n",
      "28/28 [==============================] - 0s 1ms/step - loss: 2.7788e-04 - accuracy: 1.0000 - val_loss: 9.5981e-04 - val_accuracy: 1.0000\n",
      "Epoch 146/1000\n",
      " 1/28 [>.............................] - ETA: 0s - loss: 2.7298e-04 - accuracy: 1.0000\n",
      "Epoch 00146: val_loss did not improve from 0.00091\n",
      "28/28 [==============================] - 0s 1ms/step - loss: 2.8100e-04 - accuracy: 1.0000 - val_loss: 0.0011 - val_accuracy: 1.0000\n",
      "Epoch 147/1000\n",
      " 1/28 [>.............................] - ETA: 0s - loss: 5.2524e-04 - accuracy: 1.0000\n",
      "Epoch 00147: val_loss improved from 0.00091 to 0.00090, saving model to /home/diabolokiat/seadrone-project/catkin_ws/src/object_detection/src/model/keypoint_classifier/keypoint_classifier.hdf5\n",
      "28/28 [==============================] - 0s 2ms/step - loss: 2.9583e-04 - accuracy: 1.0000 - val_loss: 9.0313e-04 - val_accuracy: 1.0000\n",
      "Epoch 148/1000\n",
      " 1/28 [>.............................] - ETA: 0s - loss: 3.2917e-04 - accuracy: 1.0000\n",
      "Epoch 00148: val_loss did not improve from 0.00090\n",
      "28/28 [==============================] - 0s 1ms/step - loss: 2.6100e-04 - accuracy: 1.0000 - val_loss: 9.9465e-04 - val_accuracy: 1.0000\n",
      "Epoch 149/1000\n",
      " 1/28 [>.............................] - ETA: 0s - loss: 1.6950e-04 - accuracy: 1.0000\n",
      "Epoch 00149: val_loss did not improve from 0.00090\n",
      "28/28 [==============================] - 0s 1ms/step - loss: 2.7236e-04 - accuracy: 1.0000 - val_loss: 9.3612e-04 - val_accuracy: 1.0000\n",
      "Epoch 150/1000\n",
      " 1/28 [>.............................] - ETA: 0s - loss: 1.0808e-04 - accuracy: 1.0000\n",
      "Epoch 00150: val_loss did not improve from 0.00090\n",
      "28/28 [==============================] - 0s 1ms/step - loss: 3.3718e-04 - accuracy: 1.0000 - val_loss: 0.0010 - val_accuracy: 1.0000\n",
      "Epoch 151/1000\n",
      " 1/28 [>.............................] - ETA: 0s - loss: 4.9610e-04 - accuracy: 1.0000\n",
      "Epoch 00151: val_loss did not improve from 0.00090\n",
      "28/28 [==============================] - 0s 1ms/step - loss: 3.1194e-04 - accuracy: 1.0000 - val_loss: 0.0022 - val_accuracy: 1.0000\n",
      "Epoch 152/1000\n",
      " 1/28 [>.............................] - ETA: 0s - loss: 5.0018e-04 - accuracy: 1.0000\n",
      "Epoch 00152: val_loss did not improve from 0.00090\n",
      "28/28 [==============================] - 0s 1ms/step - loss: 8.5941e-04 - accuracy: 1.0000 - val_loss: 0.0010 - val_accuracy: 1.0000\n",
      "Epoch 153/1000\n",
      " 1/28 [>.............................] - ETA: 0s - loss: 0.0126 - accuracy: 1.0000\n",
      "Epoch 00153: val_loss did not improve from 0.00090\n",
      "28/28 [==============================] - 0s 1ms/step - loss: 0.0012 - accuracy: 1.0000 - val_loss: 0.0011 - val_accuracy: 1.0000\n",
      "Epoch 154/1000\n",
      " 1/28 [>.............................] - ETA: 0s - loss: 2.1855e-04 - accuracy: 1.0000\n",
      "Epoch 00154: val_loss did not improve from 0.00090\n",
      "28/28 [==============================] - 0s 1ms/step - loss: 0.0011 - accuracy: 0.9994 - val_loss: 0.0086 - val_accuracy: 0.9949\n",
      "Epoch 155/1000\n",
      " 1/28 [>.............................] - ETA: 0s - loss: 1.8406e-04 - accuracy: 1.0000\n",
      "Epoch 00155: val_loss did not improve from 0.00090\n",
      "28/28 [==============================] - 0s 1ms/step - loss: 5.6173e-04 - accuracy: 1.0000 - val_loss: 0.0012 - val_accuracy: 1.0000\n",
      "Epoch 156/1000\n",
      " 1/28 [>.............................] - ETA: 0s - loss: 3.0367e-04 - accuracy: 1.0000\n",
      "Epoch 00156: val_loss improved from 0.00090 to 0.00062, saving model to /home/diabolokiat/seadrone-project/catkin_ws/src/object_detection/src/model/keypoint_classifier/keypoint_classifier.hdf5\n",
      "28/28 [==============================] - 0s 2ms/step - loss: 3.0840e-04 - accuracy: 1.0000 - val_loss: 6.2030e-04 - val_accuracy: 1.0000\n",
      "Epoch 157/1000\n",
      " 1/28 [>.............................] - ETA: 0s - loss: 1.6376e-04 - accuracy: 1.0000\n",
      "Epoch 00157: val_loss improved from 0.00062 to 0.00054, saving model to /home/diabolokiat/seadrone-project/catkin_ws/src/object_detection/src/model/keypoint_classifier/keypoint_classifier.hdf5\n",
      "28/28 [==============================] - 0s 2ms/step - loss: 2.3481e-04 - accuracy: 1.0000 - val_loss: 5.3646e-04 - val_accuracy: 1.0000\n",
      "Epoch 158/1000\n",
      " 1/28 [>.............................] - ETA: 0s - loss: 1.2860e-04 - accuracy: 1.0000\n",
      "Epoch 00158: val_loss did not improve from 0.00054\n",
      "28/28 [==============================] - 0s 1ms/step - loss: 2.1303e-04 - accuracy: 1.0000 - val_loss: 7.7764e-04 - val_accuracy: 1.0000\n",
      "Epoch 159/1000\n",
      " 1/28 [>.............................] - ETA: 0s - loss: 7.8434e-05 - accuracy: 1.0000\n",
      "Epoch 00159: val_loss did not improve from 0.00054\n",
      "28/28 [==============================] - 0s 1ms/step - loss: 1.9986e-04 - accuracy: 1.0000 - val_loss: 6.5930e-04 - val_accuracy: 1.0000\n",
      "Epoch 160/1000\n",
      " 1/28 [>.............................] - ETA: 0s - loss: 8.8497e-05 - accuracy: 1.0000\n",
      "Epoch 00160: val_loss did not improve from 0.00054\n",
      "28/28 [==============================] - 0s 1ms/step - loss: 2.2414e-04 - accuracy: 1.0000 - val_loss: 7.6238e-04 - val_accuracy: 1.0000\n",
      "Epoch 161/1000\n",
      " 1/28 [>.............................] - ETA: 0s - loss: 8.4958e-05 - accuracy: 1.0000\n",
      "Epoch 00161: val_loss did not improve from 0.00054\n",
      "28/28 [==============================] - 0s 1ms/step - loss: 2.0169e-04 - accuracy: 1.0000 - val_loss: 8.1095e-04 - val_accuracy: 1.0000\n",
      "Epoch 162/1000\n",
      " 1/28 [>.............................] - ETA: 0s - loss: 3.5408e-04 - accuracy: 1.0000\n",
      "Epoch 00162: val_loss did not improve from 0.00054\n",
      "28/28 [==============================] - 0s 1ms/step - loss: 1.9647e-04 - accuracy: 1.0000 - val_loss: 7.6551e-04 - val_accuracy: 1.0000\n",
      "Epoch 163/1000\n",
      " 1/28 [>.............................] - ETA: 0s - loss: 1.7914e-04 - accuracy: 1.0000\n",
      "Epoch 00163: val_loss did not improve from 0.00054\n",
      "28/28 [==============================] - 0s 1ms/step - loss: 1.8346e-04 - accuracy: 1.0000 - val_loss: 8.3913e-04 - val_accuracy: 1.0000\n",
      "Epoch 164/1000\n",
      " 1/28 [>.............................] - ETA: 0s - loss: 8.5246e-05 - accuracy: 1.0000\n",
      "Epoch 00164: val_loss did not improve from 0.00054\n",
      "28/28 [==============================] - 0s 1ms/step - loss: 2.0108e-04 - accuracy: 1.0000 - val_loss: 0.0010 - val_accuracy: 1.0000\n",
      "Epoch 165/1000\n",
      " 1/28 [>.............................] - ETA: 0s - loss: 1.6859e-04 - accuracy: 1.0000\n",
      "Epoch 00165: val_loss did not improve from 0.00054\n",
      "28/28 [==============================] - 0s 1ms/step - loss: 1.7825e-04 - accuracy: 1.0000 - val_loss: 7.5812e-04 - val_accuracy: 1.0000\n",
      "Epoch 166/1000\n",
      " 1/28 [>.............................] - ETA: 0s - loss: 1.2882e-04 - accuracy: 1.0000\n",
      "Epoch 00166: val_loss did not improve from 0.00054\n",
      "28/28 [==============================] - 0s 1ms/step - loss: 1.8256e-04 - accuracy: 1.0000 - val_loss: 8.4434e-04 - val_accuracy: 1.0000\n",
      "Epoch 167/1000\n",
      " 1/28 [>.............................] - ETA: 0s - loss: 1.4695e-04 - accuracy: 1.0000\n",
      "Epoch 00167: val_loss did not improve from 0.00054\n",
      "28/28 [==============================] - 0s 1ms/step - loss: 1.8792e-04 - accuracy: 1.0000 - val_loss: 0.0011 - val_accuracy: 1.0000\n",
      "Epoch 168/1000\n",
      " 1/28 [>.............................] - ETA: 0s - loss: 1.0202e-04 - accuracy: 1.0000\n",
      "Epoch 00168: val_loss did not improve from 0.00054\n",
      "28/28 [==============================] - 0s 1ms/step - loss: 2.1517e-04 - accuracy: 1.0000 - val_loss: 7.5400e-04 - val_accuracy: 1.0000\n"
     ]
    },
    {
     "name": "stdout",
     "output_type": "stream",
     "text": [
      "Epoch 169/1000\n",
      " 1/28 [>.............................] - ETA: 0s - loss: 1.2360e-04 - accuracy: 1.0000\n",
      "Epoch 00169: val_loss did not improve from 0.00054\n",
      "28/28 [==============================] - 0s 1ms/step - loss: 1.6429e-04 - accuracy: 1.0000 - val_loss: 0.0010 - val_accuracy: 1.0000\n",
      "Epoch 170/1000\n",
      " 1/28 [>.............................] - ETA: 0s - loss: 1.1237e-04 - accuracy: 1.0000\n",
      "Epoch 00170: val_loss did not improve from 0.00054\n",
      "28/28 [==============================] - 0s 1ms/step - loss: 1.7858e-04 - accuracy: 1.0000 - val_loss: 8.5928e-04 - val_accuracy: 1.0000\n",
      "Epoch 171/1000\n",
      " 1/28 [>.............................] - ETA: 0s - loss: 1.2545e-04 - accuracy: 1.0000\n",
      "Epoch 00171: val_loss did not improve from 0.00054\n",
      "28/28 [==============================] - 0s 1ms/step - loss: 1.6037e-04 - accuracy: 1.0000 - val_loss: 7.5441e-04 - val_accuracy: 1.0000\n",
      "Epoch 172/1000\n",
      " 1/28 [>.............................] - ETA: 0s - loss: 6.7318e-05 - accuracy: 1.0000\n",
      "Epoch 00172: val_loss did not improve from 0.00054\n",
      "28/28 [==============================] - 0s 1ms/step - loss: 1.6456e-04 - accuracy: 1.0000 - val_loss: 7.7047e-04 - val_accuracy: 1.0000\n",
      "Epoch 173/1000\n",
      " 1/28 [>.............................] - ETA: 0s - loss: 1.1299e-04 - accuracy: 1.0000\n",
      "Epoch 00173: val_loss did not improve from 0.00054\n",
      "28/28 [==============================] - 0s 1ms/step - loss: 1.7956e-04 - accuracy: 1.0000 - val_loss: 0.0012 - val_accuracy: 1.0000\n",
      "Epoch 174/1000\n",
      " 1/28 [>.............................] - ETA: 0s - loss: 8.0857e-04 - accuracy: 1.0000\n",
      "Epoch 00174: val_loss did not improve from 0.00054\n",
      "28/28 [==============================] - 0s 1ms/step - loss: 1.9040e-04 - accuracy: 1.0000 - val_loss: 9.4642e-04 - val_accuracy: 1.0000\n",
      "Epoch 175/1000\n",
      " 1/28 [>.............................] - ETA: 0s - loss: 8.2884e-05 - accuracy: 1.0000\n",
      "Epoch 00175: val_loss did not improve from 0.00054\n",
      "28/28 [==============================] - 0s 1ms/step - loss: 1.8611e-04 - accuracy: 1.0000 - val_loss: 8.9525e-04 - val_accuracy: 1.0000\n",
      "Epoch 176/1000\n",
      " 1/28 [>.............................] - ETA: 0s - loss: 9.2348e-05 - accuracy: 1.0000\n",
      "Epoch 00176: val_loss did not improve from 0.00054\n",
      "28/28 [==============================] - 0s 1ms/step - loss: 1.4062e-04 - accuracy: 1.0000 - val_loss: 7.5971e-04 - val_accuracy: 1.0000\n",
      "Epoch 177/1000\n",
      " 1/28 [>.............................] - ETA: 0s - loss: 1.5637e-04 - accuracy: 1.0000\n",
      "Epoch 00177: val_loss did not improve from 0.00054\n",
      "28/28 [==============================] - 0s 1ms/step - loss: 1.5182e-04 - accuracy: 1.0000 - val_loss: 9.2378e-04 - val_accuracy: 1.0000\n",
      "Epoch 178/1000\n",
      " 1/28 [>.............................] - ETA: 0s - loss: 1.7578e-04 - accuracy: 1.0000\n",
      "Epoch 00178: val_loss did not improve from 0.00054\n",
      "28/28 [==============================] - 0s 1ms/step - loss: 1.4096e-04 - accuracy: 1.0000 - val_loss: 7.8150e-04 - val_accuracy: 1.0000\n",
      "Epoch 179/1000\n",
      " 1/28 [>.............................] - ETA: 0s - loss: 3.8588e-05 - accuracy: 1.0000\n",
      "Epoch 00179: val_loss did not improve from 0.00054\n",
      "28/28 [==============================] - 0s 1ms/step - loss: 1.3742e-04 - accuracy: 1.0000 - val_loss: 7.5915e-04 - val_accuracy: 1.0000\n",
      "Epoch 180/1000\n",
      " 1/28 [>.............................] - ETA: 0s - loss: 1.8277e-04 - accuracy: 1.0000\n",
      "Epoch 00180: val_loss did not improve from 0.00054\n",
      "28/28 [==============================] - 0s 1ms/step - loss: 1.4244e-04 - accuracy: 1.0000 - val_loss: 7.8745e-04 - val_accuracy: 1.0000\n",
      "Epoch 181/1000\n",
      " 1/28 [>.............................] - ETA: 0s - loss: 8.8866e-05 - accuracy: 1.0000\n",
      "Epoch 00181: val_loss did not improve from 0.00054\n",
      "28/28 [==============================] - 0s 1ms/step - loss: 1.3435e-04 - accuracy: 1.0000 - val_loss: 7.6978e-04 - val_accuracy: 1.0000\n",
      "Epoch 182/1000\n",
      " 1/28 [>.............................] - ETA: 0s - loss: 6.1886e-05 - accuracy: 1.0000\n",
      "Epoch 00182: val_loss did not improve from 0.00054\n",
      "28/28 [==============================] - 0s 1ms/step - loss: 1.5188e-04 - accuracy: 1.0000 - val_loss: 8.7085e-04 - val_accuracy: 1.0000\n",
      "Epoch 183/1000\n",
      " 1/28 [>.............................] - ETA: 0s - loss: 5.0843e-05 - accuracy: 1.0000\n",
      "Epoch 00183: val_loss did not improve from 0.00054\n",
      "28/28 [==============================] - 0s 1ms/step - loss: 1.3609e-04 - accuracy: 1.0000 - val_loss: 7.2707e-04 - val_accuracy: 1.0000\n",
      "Epoch 184/1000\n",
      " 1/28 [>.............................] - ETA: 0s - loss: 5.9231e-05 - accuracy: 1.0000\n",
      "Epoch 00184: val_loss did not improve from 0.00054\n",
      "28/28 [==============================] - 0s 1ms/step - loss: 1.2522e-04 - accuracy: 1.0000 - val_loss: 7.9808e-04 - val_accuracy: 1.0000\n",
      "Epoch 185/1000\n",
      " 1/28 [>.............................] - ETA: 0s - loss: 1.8676e-04 - accuracy: 1.0000\n",
      "Epoch 00185: val_loss did not improve from 0.00054\n",
      "28/28 [==============================] - 0s 1ms/step - loss: 1.4016e-04 - accuracy: 1.0000 - val_loss: 9.2138e-04 - val_accuracy: 1.0000\n",
      "Epoch 186/1000\n",
      " 1/28 [>.............................] - ETA: 0s - loss: 5.3661e-05 - accuracy: 1.0000\n",
      "Epoch 00186: val_loss did not improve from 0.00054\n",
      "28/28 [==============================] - 0s 1ms/step - loss: 1.3298e-04 - accuracy: 1.0000 - val_loss: 8.8971e-04 - val_accuracy: 1.0000\n",
      "Epoch 187/1000\n",
      " 1/28 [>.............................] - ETA: 0s - loss: 2.4699e-04 - accuracy: 1.0000\n",
      "Epoch 00187: val_loss did not improve from 0.00054\n",
      "28/28 [==============================] - 0s 1ms/step - loss: 1.2525e-04 - accuracy: 1.0000 - val_loss: 6.4142e-04 - val_accuracy: 1.0000\n",
      "Epoch 188/1000\n",
      " 1/28 [>.............................] - ETA: 0s - loss: 1.9186e-04 - accuracy: 1.0000\n",
      "Epoch 00188: val_loss did not improve from 0.00054\n",
      "28/28 [==============================] - 0s 1ms/step - loss: 1.2676e-04 - accuracy: 1.0000 - val_loss: 0.0011 - val_accuracy: 1.0000\n",
      "Epoch 189/1000\n",
      " 1/28 [>.............................] - ETA: 0s - loss: 2.9968e-04 - accuracy: 1.0000\n",
      "Epoch 00189: val_loss did not improve from 0.00054\n",
      "28/28 [==============================] - 0s 1ms/step - loss: 1.1968e-04 - accuracy: 1.0000 - val_loss: 7.7179e-04 - val_accuracy: 1.0000\n",
      "Epoch 190/1000\n",
      " 1/28 [>.............................] - ETA: 0s - loss: 7.0055e-05 - accuracy: 1.0000\n",
      "Epoch 00190: val_loss did not improve from 0.00054\n",
      "28/28 [==============================] - 0s 1ms/step - loss: 1.1833e-04 - accuracy: 1.0000 - val_loss: 6.8137e-04 - val_accuracy: 1.0000\n",
      "Epoch 191/1000\n",
      " 1/28 [>.............................] - ETA: 0s - loss: 6.7683e-05 - accuracy: 1.0000\n",
      "Epoch 00191: val_loss did not improve from 0.00054\n",
      "28/28 [==============================] - 0s 1ms/step - loss: 1.1467e-04 - accuracy: 1.0000 - val_loss: 7.7342e-04 - val_accuracy: 1.0000\n",
      "Epoch 192/1000\n",
      " 1/28 [>.............................] - ETA: 0s - loss: 4.9723e-05 - accuracy: 1.0000\n",
      "Epoch 00192: val_loss did not improve from 0.00054\n",
      "28/28 [==============================] - 0s 1ms/step - loss: 1.1416e-04 - accuracy: 1.0000 - val_loss: 7.8340e-04 - val_accuracy: 1.0000\n",
      "Epoch 193/1000\n",
      " 1/28 [>.............................] - ETA: 0s - loss: 6.9445e-05 - accuracy: 1.0000\n",
      "Epoch 00193: val_loss did not improve from 0.00054\n",
      "28/28 [==============================] - 0s 1ms/step - loss: 1.1927e-04 - accuracy: 1.0000 - val_loss: 8.7580e-04 - val_accuracy: 1.0000\n",
      "Epoch 194/1000\n",
      " 1/28 [>.............................] - ETA: 0s - loss: 4.7436e-05 - accuracy: 1.0000\n",
      "Epoch 00194: val_loss did not improve from 0.00054\n",
      "28/28 [==============================] - 0s 1ms/step - loss: 1.3570e-04 - accuracy: 1.0000 - val_loss: 5.7540e-04 - val_accuracy: 1.0000\n",
      "Epoch 195/1000\n",
      " 1/28 [>.............................] - ETA: 0s - loss: 6.5072e-05 - accuracy: 1.0000\n",
      "Epoch 00195: val_loss did not improve from 0.00054\n",
      "28/28 [==============================] - 0s 1ms/step - loss: 1.1255e-04 - accuracy: 1.0000 - val_loss: 6.4301e-04 - val_accuracy: 1.0000\n",
      "Epoch 196/1000\n",
      " 1/28 [>.............................] - ETA: 0s - loss: 5.1748e-05 - accuracy: 1.0000\n",
      "Epoch 00196: val_loss did not improve from 0.00054\n",
      "28/28 [==============================] - 0s 1ms/step - loss: 1.0887e-04 - accuracy: 1.0000 - val_loss: 7.9311e-04 - val_accuracy: 1.0000\n",
      "Epoch 197/1000\n"
     ]
    },
    {
     "name": "stdout",
     "output_type": "stream",
     "text": [
      " 1/28 [>.............................] - ETA: 0s - loss: 9.4845e-05 - accuracy: 1.0000\n",
      "Epoch 00197: val_loss did not improve from 0.00054\n",
      "28/28 [==============================] - 0s 1ms/step - loss: 1.1248e-04 - accuracy: 1.0000 - val_loss: 6.3346e-04 - val_accuracy: 1.0000\n",
      "Epoch 198/1000\n",
      " 1/28 [>.............................] - ETA: 0s - loss: 1.2437e-04 - accuracy: 1.0000\n",
      "Epoch 00198: val_loss did not improve from 0.00054\n",
      "28/28 [==============================] - 0s 1ms/step - loss: 1.1741e-04 - accuracy: 1.0000 - val_loss: 7.0785e-04 - val_accuracy: 1.0000\n",
      "Epoch 199/1000\n",
      " 1/28 [>.............................] - ETA: 0s - loss: 6.0517e-05 - accuracy: 1.0000\n",
      "Epoch 00199: val_loss did not improve from 0.00054\n",
      "28/28 [==============================] - 0s 1ms/step - loss: 9.7273e-05 - accuracy: 1.0000 - val_loss: 7.5319e-04 - val_accuracy: 1.0000\n",
      "Epoch 200/1000\n",
      " 1/28 [>.............................] - ETA: 0s - loss: 1.0079e-04 - accuracy: 1.0000\n",
      "Epoch 00200: val_loss did not improve from 0.00054\n",
      "28/28 [==============================] - 0s 1ms/step - loss: 1.0776e-04 - accuracy: 1.0000 - val_loss: 7.1587e-04 - val_accuracy: 1.0000\n",
      "Epoch 201/1000\n",
      " 1/28 [>.............................] - ETA: 0s - loss: 5.7975e-04 - accuracy: 1.0000\n",
      "Epoch 00201: val_loss did not improve from 0.00054\n",
      "28/28 [==============================] - 0s 1ms/step - loss: 1.1882e-04 - accuracy: 1.0000 - val_loss: 0.0012 - val_accuracy: 1.0000\n",
      "Epoch 202/1000\n",
      " 1/28 [>.............................] - ETA: 0s - loss: 1.5918e-04 - accuracy: 1.0000\n",
      "Epoch 00202: val_loss did not improve from 0.00054\n",
      "28/28 [==============================] - 0s 1ms/step - loss: 1.1028e-04 - accuracy: 1.0000 - val_loss: 7.1192e-04 - val_accuracy: 1.0000\n",
      "Epoch 203/1000\n",
      " 1/28 [>.............................] - ETA: 0s - loss: 2.2764e-05 - accuracy: 1.0000\n",
      "Epoch 00203: val_loss did not improve from 0.00054\n",
      "28/28 [==============================] - 0s 1ms/step - loss: 9.6728e-05 - accuracy: 1.0000 - val_loss: 5.9372e-04 - val_accuracy: 1.0000\n",
      "Epoch 204/1000\n",
      " 1/28 [>.............................] - ETA: 0s - loss: 3.8181e-04 - accuracy: 1.0000\n",
      "Epoch 00204: val_loss did not improve from 0.00054\n",
      "28/28 [==============================] - 0s 1ms/step - loss: 1.0369e-04 - accuracy: 1.0000 - val_loss: 8.6996e-04 - val_accuracy: 1.0000\n",
      "Epoch 205/1000\n",
      " 1/28 [>.............................] - ETA: 0s - loss: 2.1747e-05 - accuracy: 1.0000\n",
      "Epoch 00205: val_loss did not improve from 0.00054\n",
      "28/28 [==============================] - 0s 1ms/step - loss: 9.5790e-05 - accuracy: 1.0000 - val_loss: 6.6083e-04 - val_accuracy: 1.0000\n",
      "Epoch 206/1000\n",
      " 1/28 [>.............................] - ETA: 0s - loss: 2.7356e-05 - accuracy: 1.0000\n",
      "Epoch 00206: val_loss did not improve from 0.00054\n",
      "28/28 [==============================] - 0s 1ms/step - loss: 1.0700e-04 - accuracy: 1.0000 - val_loss: 7.1453e-04 - val_accuracy: 1.0000\n",
      "Epoch 207/1000\n",
      " 1/28 [>.............................] - ETA: 0s - loss: 3.5894e-05 - accuracy: 1.0000\n",
      "Epoch 00207: val_loss did not improve from 0.00054\n",
      "28/28 [==============================] - 0s 1ms/step - loss: 9.1981e-05 - accuracy: 1.0000 - val_loss: 7.8392e-04 - val_accuracy: 1.0000\n",
      "Epoch 00207: early stopping\n"
     ]
    },
    {
     "data": {
      "text/plain": [
       "<tensorflow.python.keras.callbacks.History at 0x7f2acc1bc6d0>"
      ]
     },
     "execution_count": 16,
     "metadata": {},
     "output_type": "execute_result"
    }
   ],
   "source": [
    "model.fit(\n",
    "    X_train,\n",
    "    y_train,\n",
    "    epochs=1000,\n",
    "    batch_size=64,\n",
    "    validation_data=(X_test, y_test),\n",
    "    callbacks=[cp_callback, es_callback]\n",
    ")"
   ]
  },
  {
   "cell_type": "code",
   "execution_count": 17,
   "metadata": {
    "id": "RBkmDeUW9hE4"
   },
   "outputs": [],
   "source": [
    "# Loading the saved model\n",
    "model = tf.keras.models.load_model(model_save_path)"
   ]
  },
  {
   "cell_type": "code",
   "execution_count": 18,
   "metadata": {
    "colab": {
     "base_uri": "https://localhost:8080/"
    },
    "id": "pxvb2Y299hE3",
    "outputId": "7015e279-0501-4f24-d1b5-90652d2de17d"
   },
   "outputs": [
    {
     "name": "stdout",
     "output_type": "stream",
     "text": [
      "10/10 [==============================] - 0s 520us/step - loss: 5.3646e-04 - accuracy: 1.0000\n"
     ]
    }
   ],
   "source": [
    "# Model evaluation\n",
    "# TODO Test on loaded model\n",
    "val_loss, val_acc = model.evaluate(X_test, y_test, batch_size=64)"
   ]
  },
  {
   "cell_type": "code",
   "execution_count": 19,
   "metadata": {
    "colab": {
     "base_uri": "https://localhost:8080/"
    },
    "id": "tFz9Tb0I9hE4",
    "outputId": "bb8a62a9-bf7d-4d99-8099-bda4e2e1c73a"
   },
   "outputs": [
    {
     "name": "stdout",
     "output_type": "stream",
     "text": [
      "[8.4725289e-11 8.6867091e-15 1.3735788e-13 3.1097830e-16 9.9998617e-01\n",
      " 9.3342948e-08 1.3827740e-09 1.2822607e-05 9.9012925e-07 2.2570280e-10]\n",
      "4\n"
     ]
    }
   ],
   "source": [
    "# Inference test\n",
    "predict_result = model.predict(np.array([X_test[0]]))\n",
    "print(np.squeeze(predict_result))\n",
    "print(np.argmax(np.squeeze(predict_result)))"
   ]
  },
  {
   "cell_type": "markdown",
   "metadata": {
    "id": "S3U4yNWx9hE4"
   },
   "source": [
    "# Confusion matrix"
   ]
  },
  {
   "cell_type": "code",
   "execution_count": 20,
   "metadata": {
    "colab": {
     "base_uri": "https://localhost:8080/",
     "height": 646
    },
    "id": "AP1V6SCk9hE5",
    "outputId": "efce96b9-ca1c-44a5-ef77-58f1d5fc154c"
   },
   "outputs": [
    {
     "data": {
      "image/png": "[encoded data removed]",
      "text/plain": [
       "<Figure size 504x432 with 2 Axes>"
      ]
     },
     "metadata": {
      "needs_background": "light"
     },
     "output_type": "display_data"
    },
    {
     "name": "stdout",
     "output_type": "stream",
     "text": [
      "Classification Report\n",
      "              precision    recall  f1-score   support\n",
      "\n",
      "           0       1.00      1.00      1.00        21\n",
      "           1       1.00      1.00      1.00        25\n",
      "           2       1.00      1.00      1.00        26\n",
      "           3       1.00      1.00      1.00        80\n",
      "           4       1.00      1.00      1.00        56\n",
      "           5       1.00      1.00      1.00        92\n",
      "           6       1.00      1.00      1.00        55\n",
      "           7       1.00      1.00      1.00       131\n",
      "           8       1.00      1.00      1.00        36\n",
      "           9       1.00      1.00      1.00        67\n",
      "\n",
      "    accuracy                           1.00       589\n",
      "   macro avg       1.00      1.00      1.00       589\n",
      "weighted avg       1.00      1.00      1.00       589\n",
      "\n"
     ]
    }
   ],
   "source": [
    "import pandas as pd\n",
    "import seaborn as sns\n",
    "import matplotlib.pyplot as plt\n",
    "from sklearn.metrics import confusion_matrix, classification_report\n",
    "\n",
    "def print_confusion_matrix(y_true, y_pred, report=True):\n",
    "    labels = sorted(list(set(y_true)))\n",
    "    cmx_data = confusion_matrix(y_true, y_pred, labels=labels)\n",
    "    \n",
    "    df_cmx = pd.DataFrame(cmx_data, index=labels, columns=labels)\n",
    " \n",
    "    fig, ax = plt.subplots(figsize=(7, 6))\n",
    "    sns.heatmap(df_cmx, annot=True, fmt='g' ,square=False)\n",
    "    ax.set_ylim(len(set(y_true)), 0)\n",
    "    plt.show()\n",
    "    \n",
    "    if report:\n",
    "        print('Classification Report')\n",
    "        print(classification_report(y_test, y_pred))\n",
    "\n",
    "Y_pred = model.predict(X_test)\n",
    "y_pred = np.argmax(Y_pred, axis=1)\n",
    "\n",
    "print_confusion_matrix(y_test, y_pred)"
   ]
  },
  {
   "cell_type": "markdown",
   "metadata": {
    "id": "FNP6aqzc9hE5"
   },
   "source": [
    "# Convert to model for Tensorflow-Lite"
   ]
  },
  {
   "cell_type": "code",
   "execution_count": 21,
   "metadata": {
    "id": "ODjnYyld9hE6"
   },
   "outputs": [],
   "source": [
    "# Save as a model dedicated to inference\n",
    "model.save(model_save_path, include_optimizer=False)"
   ]
  },
  {
   "cell_type": "code",
   "execution_count": 22,
   "metadata": {
    "colab": {
     "base_uri": "https://localhost:8080/"
    },
    "id": "zRfuK8Y59hE6",
    "outputId": "106250fb-84e1-4ee8-bc8e-dcedb2bfd31c"
   },
   "outputs": [
    {
     "data": {
      "text/plain": [
       "7568"
      ]
     },
     "execution_count": 22,
     "metadata": {},
     "output_type": "execute_result"
    }
   ],
   "source": [
    "# Transform model (quantization)\n",
    "\n",
    "converter = tf.lite.TFLiteConverter.from_keras_model(model)\n",
    "converter.optimizations = [tf.lite.Optimize.DEFAULT]\n",
    "tflite_quantized_model = converter.convert()\n",
    "\n",
    "open(tflite_save_path, 'wb').write(tflite_quantized_model)"
   ]
  },
  {
   "cell_type": "markdown",
   "metadata": {
    "id": "CHBPBXdx9hE6"
   },
   "source": [
    "## Inference test"
   ]
  },
  {
   "cell_type": "code",
   "execution_count": 23,
   "metadata": {
    "id": "mGAzLocO9hE7"
   },
   "outputs": [],
   "source": [
    "interpreter = tf.lite.Interpreter(model_path=tflite_save_path)\n",
    "interpreter.allocate_tensors()"
   ]
  },
  {
   "cell_type": "code",
   "execution_count": 24,
   "metadata": {
    "id": "oQuDK8YS9hE7"
   },
   "outputs": [],
   "source": [
    "# Get I / O tensor\n",
    "input_details = interpreter.get_input_details()\n",
    "output_details = interpreter.get_output_details()"
   ]
  },
  {
   "cell_type": "code",
   "execution_count": 25,
   "metadata": {
    "id": "2_ixAf_l9hE7"
   },
   "outputs": [],
   "source": [
    "interpreter.set_tensor(input_details[0]['index'], np.array([X_test[0]]))"
   ]
  },
  {
   "cell_type": "code",
   "execution_count": 26,
   "metadata": {
    "colab": {
     "base_uri": "https://localhost:8080/"
    },
    "id": "s4FoAnuc9hE7",
    "outputId": "330d050b-a3fb-41ce-fa07-dc7a48d715e7",
    "scrolled": true
   },
   "outputs": [
    {
     "name": "stdout",
     "output_type": "stream",
     "text": [
      "CPU times: user 71 µs, sys: 24 µs, total: 95 µs\n",
      "Wall time: 59.4 µs\n"
     ]
    }
   ],
   "source": [
    "%%time\n",
    "# Inference implementation\n",
    "interpreter.invoke()\n",
    "tflite_results = interpreter.get_tensor(output_details[0]['index'])"
   ]
  },
  {
   "cell_type": "code",
   "execution_count": 28,
   "metadata": {
    "colab": {
     "base_uri": "https://localhost:8080/"
    },
    "id": "vONjp19J9hE8",
    "outputId": "9338c9f1-499b-4e10-844d-950075e98a75"
   },
   "outputs": [
    {
     "name": "stdout",
     "output_type": "stream",
     "text": [
      "[7.7893789e-11 8.5839700e-15 1.3907677e-13 3.0774136e-16 9.9998653e-01\n",
      " 8.7447106e-08 1.3257365e-09 1.2466205e-05 9.0319270e-07 2.0211358e-10]\n",
      "4\n"
     ]
    }
   ],
   "source": [
    "print(np.squeeze(tflite_results))\n",
    "print(np.argmax(np.squeeze(tflite_results)))"
   ]
  },
  {
   "cell_type": "code",
   "execution_count": null,
   "metadata": {},
   "outputs": [],
   "source": []
  }
 ],
 "metadata": {
  "accelerator": "GPU",
  "colab": {
   "collapsed_sections": [],
   "name": "Keypoint_model_training.ipynb",
   "provenance": [],
   "toc_visible": true
  },
  "kernelspec": {
   "display_name": "Python 3",
   "language": "python",
   "name": "python3"
  },
  "language_info": {
   "codemirror_mode": {
    "name": "ipython",
    "version": 3
   },
   "file_extension": ".py",
   "mimetype": "text/x-python",
   "name": "python",
   "nbconvert_exporter": "python",
   "pygments_lexer": "ipython3",
   "version": "3.8.5"
  }
 },
 "nbformat": 4,
 "nbformat_minor": 1
}
